{
 "cells": [
  {
   "cell_type": "markdown",
   "metadata": {},
   "source": [
    "## Lab 2- Tic Tac Toe\n",
    "\n",
    "In this lab your will build a n x n Tic Tac Toe game. As you do the exercises, make sure your solutions work for any size Tic Tac Toe game. "
   ]
  },
  {
   "cell_type": "markdown",
   "metadata": {},
   "source": [
    "*Exercise 1:* Write a function that creates an n by n matrix (of list of lists) which will represent the state of a Tie Tac Toe game. Let 0, 1, and 2 represent empty, \"X\", and \"O\", respectively.\n"
   ]
  },
  {
   "cell_type": "code",
   "execution_count": 1,
   "metadata": {},
   "outputs": [],
   "source": [
    "# Write you solution here\n",
    "\n",
    "def create_a_board(empty,size):\n",
    "    return [[empty for i in range(size)] for i in range(size)]"
   ]
  },
  {
   "cell_type": "code",
   "execution_count": 2,
   "metadata": {},
   "outputs": [
    {
     "data": {
      "text/plain": [
       "[[0, 0, 0], [0, 0, 0], [0, 0, 0]]"
      ]
     },
     "execution_count": 2,
     "metadata": {},
     "output_type": "execute_result"
    }
   ],
   "source": [
    "# Test your solution here\n",
    "create_a_board(0, 3)"
   ]
  },
  {
   "cell_type": "markdown",
   "metadata": {},
   "source": [
    "*Exercise 2:* Write a function that takes 2 integers `n` and `m` as input and draws a `n` by `m` game board. For example the following is a 3x3 board:\n",
    "```\n",
    "   --- --- --- \n",
    "  |   |   |   | \n",
    "   --- --- ---  \n",
    "  |   |   |   | \n",
    "   --- --- ---  \n",
    "  |   |   |   | \n",
    "   --- --- --- \n",
    "   ```"
   ]
  },
  {
   "cell_type": "code",
   "execution_count": 3,
   "metadata": {},
   "outputs": [],
   "source": [
    "# Write you solution here\n",
    "\n",
    "def draw_a_board(n,m):\n",
    "    for i in range(n):                        #prints 'n' number of rows \n",
    "        print(' ---'*m)                       #prints 'm' number of '---' in column\n",
    "        print('|   '*(m+1))                   #prints \"m+1\" nnumber of \"|\" in column\n",
    "    print(' ---'*m)                           #prints \"---\" in the bottom"
   ]
  },
  {
   "cell_type": "code",
   "execution_count": 4,
   "metadata": {},
   "outputs": [
    {
     "name": "stdout",
     "output_type": "stream",
     "text": [
      " --- --- ---\n",
      "|   |   |   |   \n",
      " --- --- ---\n",
      "|   |   |   |   \n",
      " --- --- ---\n",
      "|   |   |   |   \n",
      " --- --- ---\n"
     ]
    }
   ],
   "source": [
    "# Test your solution here\n",
    "draw_a_board(3,3)"
   ]
  },
  {
   "cell_type": "markdown",
   "metadata": {},
   "source": [
    "*Exercise 3:* Modify exercise 2, so that it takes a matrix of the form from exercise 1 and draws a tic-tac-tie board with \"X\"s and \"O\"s.  "
   ]
  },
  {
   "cell_type": "code",
   "execution_count": 5,
   "metadata": {},
   "outputs": [],
   "source": [
    "# Write you solution here\n",
    "\n",
    "def create_a_board(empty,size):\n",
    "    return [[empty for i in range(size)] for _ in range(size)]\n",
    "\n",
    "def draw_tic_tac_toe(board):\n",
    "    n= len(board)          #counts the number of rows in board\n",
    "    m=len(board[0])        #counts the number of columns in the board\n",
    "    \n",
    "    for i in range(n):\n",
    "        print(' ---'*m)\n",
    "        print('|',end='')\n",
    "        for cell in board[i]:\n",
    "            if cell == 0:\n",
    "                print('   |',end='')\n",
    "            elif cell ==1:\n",
    "                print(' X |',end='')\n",
    "            elif cell==2:\n",
    "                print(' O |',end='') \n",
    "        print()\n",
    "    print(' ---'*m)"
   ]
  },
  {
   "cell_type": "code",
   "execution_count": 6,
   "metadata": {},
   "outputs": [
    {
     "name": "stdout",
     "output_type": "stream",
     "text": [
      " --- --- ---\n",
      "| X | O |   |\n",
      " --- --- ---\n",
      "|   | X |   |\n",
      " --- --- ---\n",
      "|   |   | O |\n",
      " --- --- ---\n"
     ]
    }
   ],
   "source": [
    "# Test your solution here\n",
    "\n",
    "board= create_a_board(0,3)\n",
    "board[0][0] = 1  # X moves at (0, 0)\n",
    "board[0][1] = 2  # O moves at (0, 1)\n",
    "board[1][1] = 1  # X moves at (1, 1)\n",
    "board[2][2] = 2  # O moves at (2, 2)\n",
    "\n",
    "draw_tic_tac_toe(board)"
   ]
  },
  {
   "cell_type": "markdown",
   "metadata": {},
   "source": [
    "*Exercise 4:* Write a function that takes a `n` by `n` matrix representing a tic-tac-toe game, and returns -1, 0, 1, or 2 indicating the game is incomplete, the game is a draw, player 1 has won, or player 2 has one, respectively. Here are some example inputs you can use to test your code:"
   ]
  },
  {
   "cell_type": "code",
   "execution_count": 7,
   "metadata": {},
   "outputs": [],
   "source": [
    "# Write you solution here\n",
    "\n",
    "def check_tic_tac_toe(board):\n",
    "    n=len(board)\n",
    "    \n",
    "    for i in range(n):\n",
    "        #check rows\n",
    "        if all(cell==1 for cell in board[i]):\n",
    "            return 1 \n",
    "        if all(cell==2 for cell in board[i]):\n",
    "            return 2\n",
    "        #check columns\n",
    "        if all(board[j][i]==1 for j in range(n)):\n",
    "            return 1\n",
    "        if all(board[j][i]==2 for j in range(n)):\n",
    "            return 2\n",
    "    # check for diagonals   \n",
    "    if all(board[i][i]==1 for i in range(n)):\n",
    "        return 1\n",
    "    if all(board[i][i]==2 for i in range(n)):\n",
    "        return 2\n",
    "    if all(board[i][n-i-1]==1 for i in range(n)):\n",
    "        return 1\n",
    "    if all(board[i][n-i-1]==2 for i in range(n)):\n",
    "        return 2\n",
    "    #check for incomplete game\n",
    "    if any(cell==0 for row in board for cell in row):\n",
    "        return -1\n",
    "    #else 0 \n",
    "    return 0\n",
    "        "
   ]
  },
  {
   "cell_type": "code",
   "execution_count": 8,
   "metadata": {},
   "outputs": [
    {
     "name": "stdout",
     "output_type": "stream",
     "text": [
      "2\n",
      "1\n",
      "1\n",
      "-1\n",
      "-1\n"
     ]
    }
   ],
   "source": [
    "# Test your solution here\n",
    "\n",
    "winner_is_2 = [[2, 2, 0],\n",
    "\t[2, 1, 0],\n",
    "\t[2, 1, 1]]\n",
    "\n",
    "winner_is_1 = [[1, 2, 0],\n",
    "\t[2, 1, 0],\n",
    "\t[2, 1, 1]]\n",
    "\n",
    "winner_is_also_1 = [[0, 1, 0],\n",
    "\t[2, 1, 0],\n",
    "\t[2, 1, 1]]\n",
    "\n",
    "no_winner = [[1, 2, 0],\n",
    "\t[2, 1, 0],\n",
    "\t[2, 1, 2]]\n",
    "\n",
    "also_no_winner = [[1, 2, 0],\n",
    "\t[2, 1, 0],\n",
    "\t[2, 1, 0]]\n",
    "\n",
    "print(check_tic_tac_toe(winner_is_2))        \n",
    "print(check_tic_tac_toe(winner_is_1))        \n",
    "print(check_tic_tac_toe(winner_is_also_1))  \n",
    "print(check_tic_tac_toe(no_winner))         \n",
    "print(check_tic_tac_toe(also_no_winner))     "
   ]
  },
  {
   "cell_type": "markdown",
   "metadata": {},
   "source": [
    "*Exercise 5:* Write a function that takes a game board, player number, and `(x,y)` coordinates and places \"X\" or \"O\" in the correct location of the game board. Make sure that you only allow filling previously empty locations. Return `True` or `False` to indicate successful placement of \"X\" or \"O\"."
   ]
  },
  {
   "cell_type": "code",
   "execution_count": 9,
   "metadata": {},
   "outputs": [],
   "source": [
    "# Write you solution here\n",
    "def game_board(board,player,x,y):\n",
    "    \n",
    "    n=len(board)\n",
    "    \n",
    "    #checking if the coordinates are in the valid range\n",
    "    if 0<=x<n and 0<=y<n:\n",
    "        \n",
    "        #checking if the spot is open\n",
    "        if board[x][y]==0:\n",
    "            \n",
    "            #placing the \"X\" or \"O\" based on the player's number\n",
    "            board[x][y]=player\n",
    "            return True\n",
    "        else:\n",
    "            print(\"Already taken\")\n",
    "    else:\n",
    "        print(\"Invalid coordinates\")\n",
    "        return False\n",
    "    \n",
    "    "
   ]
  },
  {
   "cell_type": "code",
   "execution_count": 10,
   "metadata": {},
   "outputs": [
    {
     "data": {
      "text/plain": [
       "True"
      ]
     },
     "execution_count": 10,
     "metadata": {},
     "output_type": "execute_result"
    }
   ],
   "source": [
    "# Test your solution here\n",
    "board=create_a_board(0,3)\n",
    "\n",
    "game_board(board,1,0,1)"
   ]
  },
  {
   "cell_type": "markdown",
   "metadata": {},
   "source": [
    "### *Exercise 6:* Modify Exercise 4 to show column and row labels so that players can specify location using \"A2\" or \"C1\"."
   ]
  },
  {
   "cell_type": "code",
   "execution_count": 22,
   "metadata": {},
   "outputs": [],
   "source": [
    "player_1 = 1\n",
    "player_2 =2 \n",
    "empty= 0\n",
    "player_1_piece=\"X\"\n",
    "player_2_piece=\"O\"\n",
    "empty_space=\" \"\n",
    "\n",
    "def space_character(player):\n",
    "    if player==player_1:\n",
    "        return player_1_piece\n",
    "    elif player==player_2:\n",
    "        return player_2_piece\n",
    "    else:\n",
    "        return empty_space"
   ]
  },
  {
   "cell_type": "code",
   "execution_count": 23,
   "metadata": {},
   "outputs": [
    {
     "data": {
      "text/plain": [
       "{1: 'X', 2: 'O', 0: ' '}"
      ]
     },
     "execution_count": 23,
     "metadata": {},
     "output_type": "execute_result"
    }
   ],
   "source": [
    "space_character= { player_1: player_1_piece,\n",
    "                   player_2: player_2_piece,\n",
    "                   empty: empty_space }\n",
    "\n",
    "space_character"
   ]
  },
  {
   "cell_type": "code",
   "execution_count": 60,
   "metadata": {},
   "outputs": [
    {
     "data": {
      "text/plain": [
       "{'A': 0, 'B': 1, 'C': 2}"
      ]
     },
     "execution_count": 60,
     "metadata": {},
     "output_type": "execute_result"
    }
   ],
   "source": [
    "size=len(board)\n",
    "column_names=list(\"ABCDEFGHIJKLMNOPQRSTUVWXYZ\")[:size]\n",
    "column_map=dict(zip(column_names,range(size)))\n",
    "\n",
    "column_map"
   ]
  },
  {
   "cell_type": "code",
   "execution_count": 61,
   "metadata": {},
   "outputs": [
    {
     "data": {
      "text/plain": [
       "{'1': 0, '2': 1, '3': 2}"
      ]
     },
     "execution_count": 61,
     "metadata": {},
     "output_type": "execute_result"
    }
   ],
   "source": [
    "row_names=list(map(str,range(1,size+1)))[:size]\n",
    "row_map=dict(zip(row_names,range(size)))\n",
    "\n",
    "row_map"
   ]
  },
  {
   "cell_type": "code",
   "execution_count": 26,
   "metadata": {},
   "outputs": [],
   "source": [
    "def draw_board(board):\n",
    "    print(\"  \",end=\" \")\n",
    "    for i in range(size):\n",
    "        print(column_names[i],end=\" \")\n",
    "    print()\n",
    "    \n",
    "    for i in range(size):\n",
    "        print(row_names[i],end=\" \")\n",
    "        for j in range(size):\n",
    "            print(space_character[board[i][j]],end=\" \")\n",
    "        print()"
   ]
  },
  {
   "cell_type": "code",
   "execution_count": 62,
   "metadata": {},
   "outputs": [
    {
     "name": "stdout",
     "output_type": "stream",
     "text": [
      "   A B C \n",
      "1       \n",
      "2       \n",
      "3       \n"
     ]
    }
   ],
   "source": [
    "board=create_a_board(0,3)\n",
    "draw_board(board)"
   ]
  },
  {
   "cell_type": "code",
   "execution_count": 28,
   "metadata": {},
   "outputs": [
    {
     "name": "stdout",
     "output_type": "stream",
     "text": [
      "    A   B   C   \n",
      "   --- --- ---\n",
      "1 |   |   |   |\n",
      "   --- --- ---\n",
      "2 |   |   |   |\n",
      "   --- --- ---\n",
      "3 |   |   |   |\n",
      "   --- --- ---\n"
     ]
    }
   ],
   "source": [
    "def draw_labeled_tic_tac_toe_board(board):\n",
    "   \n",
    "    n = len(board) \n",
    "    print(\"  \",end=\"  \")\n",
    "    \n",
    "    # Print the column labels\n",
    "    for i in range(n):\n",
    "        print(column_names[i],end=\"   \")\n",
    "    print()\n",
    "\n",
    "    for i in range(n):\n",
    "        print(\"  \" + \" ---\" * n)  \n",
    "        \n",
    "        # Print the row label\n",
    "        print(row_names[i],end=\" |\")\n",
    "        \n",
    "        for j in range(n):\n",
    "            if board[i][j] == 0:\n",
    "                print(\"   |\", end=\"\")  \n",
    "            elif board[i][j] == 1:\n",
    "                print(\" X |\", end=\"\")  \n",
    "            elif board[i][j] == 2:\n",
    "                print(\" O |\", end=\"\")  \n",
    "        \n",
    "        print()  \n",
    "    \n",
    "\n",
    "    print(\"  \" + \" ---\" * n)\n",
    "    \n",
    "board = create_a_board(0, 3)\n",
    "draw_labeled_tic_tac_toe_board(board)\n"
   ]
  },
  {
   "cell_type": "code",
   "execution_count": 29,
   "metadata": {},
   "outputs": [],
   "source": [
    "def check_tic_tac_toe(board):\n",
    "    n=len(board)\n",
    "    \n",
    "    for i in range(n):\n",
    "        #check rows\n",
    "        if all(cell==1 for cell in board[i]):\n",
    "            return 1 \n",
    "        if all(cell==2 for cell in board[i]):\n",
    "            return 2\n",
    "        \n",
    "        #check columns\n",
    "        if all(board[j][i]==1 for j in range(n)):\n",
    "            return 1\n",
    "        if all(board[j][i]==2 for j in range(n)):\n",
    "            return 2\n",
    "        \n",
    "    # check for diagonals   \n",
    "    if all(board[i][i]==1 for i in range(n)):\n",
    "        return 1\n",
    "    if all(board[i][i]==2 for i in range(n)):\n",
    "        return 2\n",
    "    if all(board[i][n-i-1]==1 for i in range(n)):\n",
    "        return 1\n",
    "    if all(board[i][n-i-1]==2 for i in range(n)):\n",
    "        return 2\n",
    "    \n",
    "    #check for incomplete game\n",
    "    if any(cell==0 for row in board for cell in row):\n",
    "        return -1\n",
    "    \n",
    "    return 0\n",
    "\n",
    "def draw_labeled_tic_tac_toe_board(board):\n",
    "   \n",
    "    n = len(board) \n",
    "    print(\"  \",end=\"  \")\n",
    "    \n",
    "    # Print the column labels\n",
    "    for i in range(n):\n",
    "        print(column_names[i],end=\"   \"+'')\n",
    "    print()\n",
    "\n",
    "    for i in range(n):\n",
    "        print(\"  \" + \" ---\" * n)  \n",
    "        \n",
    "        # Print the row label\n",
    "        print(row_names[i],end=\" |\")\n",
    "        \n",
    "        for j in range(n):\n",
    "            if board[i][j] == 0:\n",
    "                print(\"   |\", end=\"\")  \n",
    "            elif board[i][j] == 1:\n",
    "                print(\" X |\", end=\"\")  \n",
    "            elif board[i][j] == 2:\n",
    "                print(\" O |\", end=\"\")  \n",
    "        \n",
    "        print()  \n",
    "    \n",
    "    print(\"  \" + \" ---\" * n)\n",
    "\n",
    "def display_board_and_result(board):\n",
    "    draw_labeled_tic_tac_toe_board(board)\n",
    "    result = check_tic_tac_toe(board)\n",
    "    \n",
    "    if result == 1:\n",
    "        print(\"Player 1 wins!\")\n",
    "    elif result == 2:\n",
    "        print(\"Player 2 wins!\")\n",
    "    elif result == -1:\n",
    "        print(\"The game is incomplete.\")\n",
    "    else:\n",
    "        print(\"The game is a draw.\")\n"
   ]
  },
  {
   "cell_type": "code",
   "execution_count": 30,
   "metadata": {},
   "outputs": [
    {
     "name": "stdout",
     "output_type": "stream",
     "text": [
      "    A   B   C   \n",
      "   --- --- ---\n",
      "1 | X | O |   |\n",
      "   --- --- ---\n",
      "2 |   | X |   |\n",
      "   --- --- ---\n",
      "3 |   |   | O |\n",
      "   --- --- ---\n",
      "The game is incomplete.\n"
     ]
    }
   ],
   "source": [
    "board = create_a_board(0, 3)\n",
    "board[0][0] = 1  # X moves at (0, 0)\n",
    "board[0][1] = 2  # O moves at (0, 1)\n",
    "board[1][1] = 1  # X moves at (1, 1)\n",
    "board[2][2] = 2  # O moves at (2, 2)\n",
    "\n",
    "display_board_and_result(board)"
   ]
  },
  {
   "cell_type": "markdown",
   "metadata": {},
   "source": [
    "### *Exercise 7:* Write a function that takes a board, player number, and location specified as in exercise 6 and then calls exercise 5 to correctly modify the board.  "
   ]
  },
  {
   "cell_type": "code",
   "execution_count": 31,
   "metadata": {},
   "outputs": [],
   "source": [
    "# Write you solution here\n",
    "\n",
    "def parse_location(l_string):\n",
    "    if not isinstance(l_string,str):\n",
    "        print(\"Bad Input. Location must be string.\")\n",
    "        return False\n",
    "    \n",
    "    if len(l_string)!=2:\n",
    "        print(\"Bad Input. Location must be 2 characters.\")\n",
    "        return False\n",
    "    \n",
    "    row=l_string[0].upper()\n",
    "    col=l_string[1].upper()\n",
    "    \n",
    "    if not row in column_names:\n",
    "        print(\"Bad Row.\")\n",
    "        return False\n",
    "\n",
    "    if not col in row_names:\n",
    "        print(\"Bad Column.\")\n",
    "        return False\n",
    "\n",
    "    return column_map[row],row_map[col]\n",
    "    "
   ]
  },
  {
   "cell_type": "code",
   "execution_count": 33,
   "metadata": {},
   "outputs": [
    {
     "data": {
      "text/plain": [
       "(2, 0)"
      ]
     },
     "execution_count": 33,
     "metadata": {},
     "output_type": "execute_result"
    }
   ],
   "source": [
    "parse_location(\"C1\")"
   ]
  },
  {
   "cell_type": "code",
   "execution_count": 34,
   "metadata": {},
   "outputs": [],
   "source": [
    "def make_move(board, player, location):\n",
    "    position = parse_location(location)\n",
    "    if position:\n",
    "        x, y = position\n",
    "        if board[y][x] == 0:  \n",
    "            board[y][x] = player\n",
    "            return True\n",
    "        else:\n",
    "            print(\"That position is already taken.\")\n",
    "    return False"
   ]
  },
  {
   "cell_type": "code",
   "execution_count": 35,
   "metadata": {},
   "outputs": [
    {
     "name": "stdout",
     "output_type": "stream",
     "text": [
      "    A   B   C   \n",
      "   --- --- ---\n",
      "1 | X | X | O |\n",
      "   --- --- ---\n",
      "2 | O | O | X |\n",
      "   --- --- ---\n",
      "3 | X | O | X |\n",
      "   --- --- ---\n",
      "The game is a draw.\n"
     ]
    }
   ],
   "source": [
    "board=create_a_board(0,3)\n",
    "make_move(board,1,'C3')\n",
    "make_move(board,2,'B2')\n",
    "make_move(board,1,'A1')\n",
    "make_move(board,2,'A2')\n",
    "make_move(board,1,'C2')\n",
    "make_move(board,2,'C1')\n",
    "make_move(board,1,'A3')\n",
    "make_move(board,2,'B3')\n",
    "make_move(board,1,'B1')\n",
    "display_board_and_result(board)"
   ]
  },
  {
   "cell_type": "markdown",
   "metadata": {},
   "source": [
    "*Exercise 8:* Write a function is called with a board and player number, takes input from the player using python's `input`, and modifies the board using your function from exercise 7. Note that you should keep asking for input until you have gotten a valid input that results in a valid move."
   ]
  },
  {
   "cell_type": "code",
   "execution_count": 36,
   "metadata": {},
   "outputs": [],
   "source": [
    "# Write you solution here\n",
    "def take_move(board,player):\n",
    "    good_move=False\n",
    "    \n",
    "    while not good_move:\n",
    "        loc_str =input(\"Input location:\")\n",
    "            \n",
    "        good_move = make_move(board,player,loc_str)"
   ]
  },
  {
   "cell_type": "code",
   "execution_count": 37,
   "metadata": {},
   "outputs": [
    {
     "name": "stdout",
     "output_type": "stream",
     "text": [
      "Input location:C1\n",
      "    A   B   C   \n",
      "   --- --- ---\n",
      "1 |   |   | O |\n",
      "   --- --- ---\n",
      "2 |   |   |   |\n",
      "   --- --- ---\n",
      "3 |   |   |   |\n",
      "   --- --- ---\n",
      "The game is incomplete.\n"
     ]
    }
   ],
   "source": [
    "# Test your solution here\n",
    "board=create_a_board(0,3)\n",
    "take_move(board,2)\n",
    "display_board_and_result(board)"
   ]
  },
  {
   "cell_type": "markdown",
   "metadata": {},
   "source": [
    "*Exercise 9:* Use all of the previous exercises to implement a full tic-tac-toe game, where an appropriate board is drawn, 2 players are repeatedly asked for a location coordinates of where they wish to place a mark, and the game status is checked until a player wins or a draw occurs."
   ]
  },
  {
   "cell_type": "code",
   "execution_count": 52,
   "metadata": {},
   "outputs": [],
   "source": [
    "# Write you solution here\n",
    "def play_game(board):\n",
    "    size = len(board) \n",
    "    global column_names, column_map, row_names, row_map\n",
    "    current_player = 1\n",
    "    while True:\n",
    "        display_board_and_result(board)\n",
    "        location = input(f\"Player {current_player}, enter your move (e.g., A1): \")\n",
    "        if make_move(board, current_player, location):\n",
    "            result = check_tic_tac_toe(board)\n",
    "            if result != -1:\n",
    "                display_board_and_result(board)\n",
    "                break\n",
    "            current_player = 1 if current_player == 2 else 2 "
   ]
  },
  {
   "cell_type": "code",
   "execution_count": 63,
   "metadata": {},
   "outputs": [
    {
     "name": "stdout",
     "output_type": "stream",
     "text": [
      "    A   B   C   \n",
      "   --- --- ---\n",
      "1 |   |   |   |\n",
      "   --- --- ---\n",
      "2 |   |   |   |\n",
      "   --- --- ---\n",
      "3 |   |   |   |\n",
      "   --- --- ---\n",
      "The game is incomplete.\n",
      "Player 1, enter your move (e.g., A1): A1\n",
      "    A   B   C   \n",
      "   --- --- ---\n",
      "1 | X |   |   |\n",
      "   --- --- ---\n",
      "2 |   |   |   |\n",
      "   --- --- ---\n",
      "3 |   |   |   |\n",
      "   --- --- ---\n",
      "The game is incomplete.\n",
      "Player 2, enter your move (e.g., A1): B1\n",
      "    A   B   C   \n",
      "   --- --- ---\n",
      "1 | X | O |   |\n",
      "   --- --- ---\n",
      "2 |   |   |   |\n",
      "   --- --- ---\n",
      "3 |   |   |   |\n",
      "   --- --- ---\n",
      "The game is incomplete.\n",
      "Player 1, enter your move (e.g., A1): A2\n",
      "    A   B   C   \n",
      "   --- --- ---\n",
      "1 | X | O |   |\n",
      "   --- --- ---\n",
      "2 | X |   |   |\n",
      "   --- --- ---\n",
      "3 |   |   |   |\n",
      "   --- --- ---\n",
      "The game is incomplete.\n",
      "Player 2, enter your move (e.g., A1): B2\n",
      "    A   B   C   \n",
      "   --- --- ---\n",
      "1 | X | O |   |\n",
      "   --- --- ---\n",
      "2 | X | O |   |\n",
      "   --- --- ---\n",
      "3 |   |   |   |\n",
      "   --- --- ---\n",
      "The game is incomplete.\n",
      "Player 1, enter your move (e.g., A1): C1\n",
      "    A   B   C   \n",
      "   --- --- ---\n",
      "1 | X | O | X |\n",
      "   --- --- ---\n",
      "2 | X | O |   |\n",
      "   --- --- ---\n",
      "3 |   |   |   |\n",
      "   --- --- ---\n",
      "The game is incomplete.\n",
      "Player 2, enter your move (e.g., A1): B3\n",
      "    A   B   C   \n",
      "   --- --- ---\n",
      "1 | X | O | X |\n",
      "   --- --- ---\n",
      "2 | X | O |   |\n",
      "   --- --- ---\n",
      "3 |   | O |   |\n",
      "   --- --- ---\n",
      "Player 2 wins!\n"
     ]
    }
   ],
   "source": [
    "# Test your solution here\n",
    "board=create_a_board(0,3)\n",
    "play_game(board)"
   ]
  },
  {
   "cell_type": "markdown",
   "metadata": {},
   "source": [
    "*Exercise 10:* Test that your game works for 5x5 Tic Tac Toe.  "
   ]
  },
  {
   "cell_type": "code",
   "execution_count": 57,
   "metadata": {},
   "outputs": [
    {
     "name": "stdout",
     "output_type": "stream",
     "text": [
      "    A   B   C   D   E   \n",
      "   --- --- --- --- ---\n",
      "1 |   |   |   |   |   |\n",
      "   --- --- --- --- ---\n",
      "2 |   |   |   |   |   |\n",
      "   --- --- --- --- ---\n",
      "3 |   |   |   |   |   |\n",
      "   --- --- --- --- ---\n",
      "4 |   |   |   |   |   |\n",
      "   --- --- --- --- ---\n",
      "5 |   |   |   |   |   |\n",
      "   --- --- --- --- ---\n",
      "The game is incomplete.\n",
      "Player 1, enter your move (e.g., A1): A1\n",
      "    A   B   C   D   E   \n",
      "   --- --- --- --- ---\n",
      "1 | X |   |   |   |   |\n",
      "   --- --- --- --- ---\n",
      "2 |   |   |   |   |   |\n",
      "   --- --- --- --- ---\n",
      "3 |   |   |   |   |   |\n",
      "   --- --- --- --- ---\n",
      "4 |   |   |   |   |   |\n",
      "   --- --- --- --- ---\n",
      "5 |   |   |   |   |   |\n",
      "   --- --- --- --- ---\n",
      "The game is incomplete.\n",
      "Player 2, enter your move (e.g., A1): B1\n",
      "    A   B   C   D   E   \n",
      "   --- --- --- --- ---\n",
      "1 | X | O |   |   |   |\n",
      "   --- --- --- --- ---\n",
      "2 |   |   |   |   |   |\n",
      "   --- --- --- --- ---\n",
      "3 |   |   |   |   |   |\n",
      "   --- --- --- --- ---\n",
      "4 |   |   |   |   |   |\n",
      "   --- --- --- --- ---\n",
      "5 |   |   |   |   |   |\n",
      "   --- --- --- --- ---\n",
      "The game is incomplete.\n",
      "Player 1, enter your move (e.g., A1): A2\n",
      "    A   B   C   D   E   \n",
      "   --- --- --- --- ---\n",
      "1 | X | O |   |   |   |\n",
      "   --- --- --- --- ---\n",
      "2 | X |   |   |   |   |\n",
      "   --- --- --- --- ---\n",
      "3 |   |   |   |   |   |\n",
      "   --- --- --- --- ---\n",
      "4 |   |   |   |   |   |\n",
      "   --- --- --- --- ---\n",
      "5 |   |   |   |   |   |\n",
      "   --- --- --- --- ---\n",
      "The game is incomplete.\n",
      "Player 2, enter your move (e.g., A1): B2\n",
      "    A   B   C   D   E   \n",
      "   --- --- --- --- ---\n",
      "1 | X | O |   |   |   |\n",
      "   --- --- --- --- ---\n",
      "2 | X | O |   |   |   |\n",
      "   --- --- --- --- ---\n",
      "3 |   |   |   |   |   |\n",
      "   --- --- --- --- ---\n",
      "4 |   |   |   |   |   |\n",
      "   --- --- --- --- ---\n",
      "5 |   |   |   |   |   |\n",
      "   --- --- --- --- ---\n",
      "The game is incomplete.\n",
      "Player 1, enter your move (e.g., A1): A3\n",
      "    A   B   C   D   E   \n",
      "   --- --- --- --- ---\n",
      "1 | X | O |   |   |   |\n",
      "   --- --- --- --- ---\n",
      "2 | X | O |   |   |   |\n",
      "   --- --- --- --- ---\n",
      "3 | X |   |   |   |   |\n",
      "   --- --- --- --- ---\n",
      "4 |   |   |   |   |   |\n",
      "   --- --- --- --- ---\n",
      "5 |   |   |   |   |   |\n",
      "   --- --- --- --- ---\n",
      "The game is incomplete.\n",
      "Player 2, enter your move (e.g., A1): B3\n",
      "    A   B   C   D   E   \n",
      "   --- --- --- --- ---\n",
      "1 | X | O |   |   |   |\n",
      "   --- --- --- --- ---\n",
      "2 | X | O |   |   |   |\n",
      "   --- --- --- --- ---\n",
      "3 | X | O |   |   |   |\n",
      "   --- --- --- --- ---\n",
      "4 |   |   |   |   |   |\n",
      "   --- --- --- --- ---\n",
      "5 |   |   |   |   |   |\n",
      "   --- --- --- --- ---\n",
      "The game is incomplete.\n",
      "Player 1, enter your move (e.g., A1): C3\n",
      "    A   B   C   D   E   \n",
      "   --- --- --- --- ---\n",
      "1 | X | O |   |   |   |\n",
      "   --- --- --- --- ---\n",
      "2 | X | O |   |   |   |\n",
      "   --- --- --- --- ---\n",
      "3 | X | O | X |   |   |\n",
      "   --- --- --- --- ---\n",
      "4 |   |   |   |   |   |\n",
      "   --- --- --- --- ---\n",
      "5 |   |   |   |   |   |\n",
      "   --- --- --- --- ---\n",
      "The game is incomplete.\n",
      "Player 2, enter your move (e.g., A1): A3\n",
      "That position is already taken.\n",
      "    A   B   C   D   E   \n",
      "   --- --- --- --- ---\n",
      "1 | X | O |   |   |   |\n",
      "   --- --- --- --- ---\n",
      "2 | X | O |   |   |   |\n",
      "   --- --- --- --- ---\n",
      "3 | X | O | X |   |   |\n",
      "   --- --- --- --- ---\n",
      "4 |   |   |   |   |   |\n",
      "   --- --- --- --- ---\n",
      "5 |   |   |   |   |   |\n",
      "   --- --- --- --- ---\n",
      "The game is incomplete.\n",
      "Player 2, enter your move (e.g., A1): B4\n",
      "    A   B   C   D   E   \n",
      "   --- --- --- --- ---\n",
      "1 | X | O |   |   |   |\n",
      "   --- --- --- --- ---\n",
      "2 | X | O |   |   |   |\n",
      "   --- --- --- --- ---\n",
      "3 | X | O | X |   |   |\n",
      "   --- --- --- --- ---\n",
      "4 |   | O |   |   |   |\n",
      "   --- --- --- --- ---\n",
      "5 |   |   |   |   |   |\n",
      "   --- --- --- --- ---\n",
      "The game is incomplete.\n",
      "Player 1, enter your move (e.g., A1): A4\n",
      "    A   B   C   D   E   \n",
      "   --- --- --- --- ---\n",
      "1 | X | O |   |   |   |\n",
      "   --- --- --- --- ---\n",
      "2 | X | O |   |   |   |\n",
      "   --- --- --- --- ---\n",
      "3 | X | O | X |   |   |\n",
      "   --- --- --- --- ---\n",
      "4 | X | O |   |   |   |\n",
      "   --- --- --- --- ---\n",
      "5 |   |   |   |   |   |\n",
      "   --- --- --- --- ---\n",
      "The game is incomplete.\n",
      "Player 2, enter your move (e.g., A1): B5\n",
      "    A   B   C   D   E   \n",
      "   --- --- --- --- ---\n",
      "1 | X | O |   |   |   |\n",
      "   --- --- --- --- ---\n",
      "2 | X | O |   |   |   |\n",
      "   --- --- --- --- ---\n",
      "3 | X | O | X |   |   |\n",
      "   --- --- --- --- ---\n",
      "4 | X | O |   |   |   |\n",
      "   --- --- --- --- ---\n",
      "5 |   | O |   |   |   |\n",
      "   --- --- --- --- ---\n",
      "Player 2 wins!\n"
     ]
    }
   ],
   "source": [
    "# Test your solution here\n",
    "board=create_a_board(0,5)\n",
    "play_game(board)"
   ]
  },
  {
   "cell_type": "markdown",
   "metadata": {},
   "source": [
    "*Exercise 11:* (Advanced / Challenge) Develop a version of the game where one player is the computer. Note that you don't need to do an extensive seach for the best move. You can have the computer simply protect against loosing and otherwise try to win with straight or diagonal patterns."
   ]
  },
  {
   "cell_type": "code",
   "execution_count": 20,
   "metadata": {},
   "outputs": [],
   "source": [
    "# Write you solution here"
   ]
  },
  {
   "cell_type": "code",
   "execution_count": 21,
   "metadata": {},
   "outputs": [],
   "source": [
    "# Test your solution here"
   ]
  }
 ],
 "metadata": {
  "kernelspec": {
   "display_name": "Python 3 (ipykernel)",
   "language": "python",
   "name": "python3"
  },
  "language_info": {
   "codemirror_mode": {
    "name": "ipython",
    "version": 3
   },
   "file_extension": ".py",
   "mimetype": "text/x-python",
   "name": "python",
   "nbconvert_exporter": "python",
   "pygments_lexer": "ipython3",
   "version": "3.12.3"
  }
 },
 "nbformat": 4,
 "nbformat_minor": 2
}
