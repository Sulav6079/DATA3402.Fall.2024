{
 "cells": [
  {
   "cell_type": "markdown",
   "metadata": {},
   "source": [
    "# Lab 3\n",
    "\n",
    "In this lab we will become familiar with distributions, histograms, and functional programming. Do not use numpy or any other library for this lab.\n",
    "\n",
    "Before that, lets get setup homework submission and submit your previous lab.  \n",
    "\n",
    "## Working on the Command-line.\n",
    "\n",
    "It is important for you to learn to work on the command line and to be familiar with the Unix environment (e.g. Linux, Mac OS, or Windows Linux Subsystem). We'll go over working on the command-line in detail later in the course.\n",
    "\n",
    "You are required to submit your work in this course via GitHub. Today in class, you will setup everything on the command-line.\n",
    "\n",
    "### Command-line basics\n",
    "\n",
    "There is plenty of material online that will help you figure out how to do various tasks on the command line. Commands you may need to know today:\n",
    "\n",
    "* `ls`: lists the contents of the current directory.\n",
    "* `pwd`: prints the path of the current directory.\n",
    "* `cd <directory>`: changes your current directory to the specified directory.\n",
    "* `cd ..`: changes current directory to the previous directory. Basically steps out of the current directory to the directory containing the current directory.\n",
    "* `mkdir <directory>`: create a new directory with the specified name.\n",
    "* `rmdir <directory>`: removes the specified directory. Note it has to be empty.\n",
    "* `rm <filename>`: deletes the specified file.\n",
    "* `mv <filename 1> <filename 1>`: Moves or renames a file.\n",
    "* `cp <filename 1> <filename 2>`: copies an file. If you just provide a path to a directory, it copies the file into that directory with the same filename. If you specifiy a new filename, the copy has a new name. For example `cp File.1.txt File.2.txt` creates a copy of `File.1.txt` with the name `File.2.txt`. Meanwhile `cp File.1.txt my_directory`, where `my_directory` is a directory, creates a copy of `File.1.txt` in directory `my_directory` with the name `File.1.txt`.\n",
    "\n",
    "For reference, here are some example resources I found by googling:\n",
    "\n",
    "* Paths and Wildcards: https://www.warp.dev/terminus/linux-wildcards\n",
    "* Basic commands like copy: https://kb.iu.edu/d/afsk\n",
    "* General introduction to shell: https://github-pages.ucl.ac.uk/RCPSTrainingMaterials/HPCandHTCusingLegion/2_intro_to_shell.html\n",
    "* Manual pages: https://www.geeksforgeeks.org/linux-man-page-entries-different-types/?ref=ml_lbp\n",
    "* Chaining commands: https://www.geeksforgeeks.org/chaining-commands-in-linux/?ref=ml_lbp\n",
    "* Piping: https://www.geeksforgeeks.org/piping-in-unix-or-linux/\n",
    "* Using sed: https://www.geeksforgeeks.org/sed-command-linux-set-2/?ref=ml_lbp\n",
    "* Various Unix commands: https://www.geeksforgeeks.org/linux-commands/?ref=lbp\n",
    "* Cheat sheets:\n",
    "    * https://www.stationx.net/unix-commands-cheat-sheet/\n",
    "    * https://cheatography.com/davechild/cheat-sheets/linux-command-line/\n",
    "    * https://www.theknowledgeacademy.com/blog/unix-commands-cheat-sheet/\n",
    "    \n",
    "These aren't necessarily the best resources. Feel free to search for better ones. Also, don't forget that Unix has built-in manual pages for all of its commands. Just type `man <command>` at the command prompt. Use the space-bar to scroll through the documentation and \"q\" to exit.\n",
    "\n",
    "\n",
    "### Setup and Submission\n",
    "\n",
    "Our course repository is public. The instructions here aim to have you setup a fork of the course repository. Unfortunately because you are forking a public repo, your fork will have to be public also. \n",
    "\n",
    "You should be familiar with git from the first semester of this course. I assume that you all have github accounts and have setup things to be able to [push to github using ssh](https://docs.github.com/en/github/authenticating-to-github/connecting-to-github-with-ssh). The instuctions here lead you to:\n",
    "\n",
    "We'll overview what you will do before going through step by step instructions.\n",
    "\n",
    "1. Setup:\n",
    "    1. Fork the class repository. Some directions in [fork-a-repo](https://docs.github.com/en/github/getting-started-with-github/fork-a-repo).\n",
    "    1. Create a directory on your personal system where you will keep all course materials.\n",
    "    1. In that directory, clone your fork of the repository.\n",
    "    1. Using `git remote`, set the upstream to be the class repo, so you can pull from the class and push to your fork.\n",
    "\n",
    "1. Submission:\n",
    "    1. Copy your solutions into the appropriate directory (e.g. into `Labs/Lab.2/`) and with appropriate filename `Lab.2.solution.ipynb'.\n",
    "    1. Commit / push your solutions.\n",
    "    1. Grant access to course instructors.\n",
    "\n",
    "Below are step by step instructions with examples (including example directory naming convention). Feel free to modify things as you see fit. \n",
    "\n",
    "#### Setup\n",
    "You should only need to follow this instructions once. Here are some useful git commands:\n",
    "\n",
    "* Git help: `git help`\n",
    "* Git remote help: `git help remote`\n",
    "* Check remote status: `git remote -v`\n",
    "* Add a remote: `git remote add <stream name> <repo URL>`\n",
    "* Add a remove: `git remote remove <stream name>`\n",
    "\n",
    "Steps:\n",
    "1. In a browser, log into GitHub and navigate to the [course repository](https://github.com/UTA-DataScience/DATA3402.Fall.2024).\n",
    "1. On the top right of the page, press the fork button to create a new fork into your own GitHub account.\n",
    "1. After successful fork, you should find the browser showing your fork of the course repository. Use the green \"Code\" button to copy path to the repo into your the clipboard of your computer.\n",
    "1. Open a shell on your personal computer.\n",
    "1. If you have not done so already, create a new directory/folder where you will keep all course material to navigate to it. For example: `mkdir Data-3402` and `cd Data-3402`.\n",
    "1. Clone your fork of the repository using `git clone` followed by the path you copied into your clipboard. (copy/paste)\n",
    "1. Paste the URL to your fork in the worksheet for the TAs and instructors.\n",
    "1. Now go into the directory of your clone (`cd DATA3402.Fall.2024`).\n",
    "1. Type `git remote -v` to see the current setup for fetch and pull.\n",
    "1. Note the URL you see. This should be the same as what you used for your clone for both push and fetch.\n",
    "1. Delete the origin remote using `git remote remove origin`.\n",
    "1. Add the course repo as your remote using `git remote add origin https://github.com/UTA-DataScience/DATA3402.Fall.2024.git`.\n",
    "1. Change the push to point to your fork. This means you will need the URL to your clone we copied earlier and confirmed as the original origin. The command will look something like: `git remote set-url --push origin  https://github.com/XXXXXX/DATA3402.Fall.2024.git`, where XXXXX is your username on GitHub.\n",
    "1. Note that if you setup everything correctly, you now should be able to do `git pull` to get updates from the course repo, and do `git push` to push your commits into your own fork.\n",
    "\n",
    "### Submission\n",
    "These instructions outline how you submit files. Some useful commands:\n",
    "* To add a file to local repository: `git add <file>`.\n",
    "* To commit all changed files into local repository: `git -a -m \"A message\"`. You need to provide some comment when you commit. \n",
    "* To push the commited files from the local repository to GitHub: `git push`.\n",
    "* To get updates from GitHub: `git pull`.\n",
    "\n",
    "Steps:\n",
    "1. To submit your labs, navigate to your clone of your fork of the course repository. \n",
    "1. Use `git pull` to make sure you have the latest updates. \n",
    "1. Make sure your copy of the lab your are working on is in the appropriate place in this clone. That means if you have the file elsewhere, copy it to the same directory in your clone of your fork. \n",
    "1. Note that in order to avoid future conflicts, you should always name your solution differently than the original file in the class repo. For example if your file is still named `Lab.2.ipynb` you should rename it using the `mv` command: `mv Lab.2.ipynb Lab.2.solution.ipynb`. \n",
    "1. Add and files you wish to submit into the repo. For example: `git add Labs/Lab.2/Lab.2.solution.ipynb`\n",
    "1. Commit any changes: `git commit -a -m \"Lab 2 updates\"`\n",
    "1. Push your changes: `git push`\n",
    "1. Check on github website that your solutions have been properly submitted.\n",
    "\n",
    "Before you leave the session today, make sure your GitHub Repo is setup. If you need to work further on your lab, navigate jupyter to the copy of the lab you just submitted and work there. Once done, repeat the commit and push commands to submit your updated solution. Note that lab 2 is due by midnight Monday 9/8/2024.\n"
   ]
  },
  {
   "cell_type": "markdown",
   "metadata": {},
   "source": [
    "### Uniform Distribution\n",
    "Lets start with generating some fake random data. You can get a random number between 0 and 1 using the python random module as follow:"
   ]
  },
  {
   "cell_type": "code",
   "execution_count": 4,
   "metadata": {},
   "outputs": [
    {
     "name": "stdout",
     "output_type": "stream",
     "text": [
      "The Value of x is 0.5435355618389335\n"
     ]
    }
   ],
   "source": [
    "import random\n",
    "x=random.random()\n",
    "print(\"The Value of x is\", x)"
   ]
  },
  {
   "cell_type": "markdown",
   "metadata": {},
   "source": [
    "Everytime you call random, you will get a new number.\n",
    "\n",
    "*Exercise 1:* Using random, write a function `generate_uniform(N, mymin, mymax)`, that returns a python list containing N random numbers between specified minimum and maximum value. Note that you may want to quickly work out on paper how to turn numbers between 0 and 1 to between other values. "
   ]
  },
  {
   "cell_type": "code",
   "execution_count": 10,
   "metadata": {},
   "outputs": [],
   "source": [
    "# Skeleton\n",
    "\n",
    "def generate_uniform(N,x_min,x_max):\n",
    "    out = [random.uniform(x_min,x_max) for i in range(N)]\n",
    "    return out"
   ]
  },
  {
   "cell_type": "code",
   "execution_count": 12,
   "metadata": {},
   "outputs": [
    {
     "name": "stdout",
     "output_type": "stream",
     "text": [
      "Data Type: <class 'list'>\n",
      "Data Length: 1000\n",
      "Type of Data Contents: <class 'float'>\n",
      "Data Minimum: -9.981708643938727\n",
      "Data Maximum: 9.998790816453326\n"
     ]
    }
   ],
   "source": [
    "# Test your solution here\n",
    "data=generate_uniform(1000,-10,10)\n",
    "print (\"Data Type:\", type(data))\n",
    "print (\"Data Length:\", len(data))\n",
    "if len(data)>0: \n",
    "    print (\"Type of Data Contents:\", type(data[0]))\n",
    "    print (\"Data Minimum:\", min(data))\n",
    "    print (\"Data Maximum:\", max(data))"
   ]
  },
  {
   "cell_type": "markdown",
   "metadata": {},
   "source": [
    "*Exercise 2a:* \n",
    "Write a function that computes the mean of values in a list. Recall the equation for the mean of a random variable $\\bf{x}$ computed on a data set of $n$ values $\\{ x_i \\} = \\{x_1, x_2, ..., x_n\\}$  is ${\\bf\\bar{x}} = \\frac{1}{n} \\sum_i^n x_i$."
   ]
  },
  {
   "cell_type": "code",
   "execution_count": 2,
   "metadata": {},
   "outputs": [],
   "source": [
    "# Skeleton\n",
    "\n",
    "def mean(Data):\n",
    "    m=0\n",
    "    total_sum = sum(Data)\n",
    "    n = len(Data)\n",
    "    if n > 0:\n",
    "        m = total_sum / n\n",
    "    \n",
    "    return m"
   ]
  },
  {
   "cell_type": "code",
   "execution_count": 3,
   "metadata": {},
   "outputs": [
    {
     "name": "stdout",
     "output_type": "stream",
     "text": [
      "Mean of Data: 7.5\n"
     ]
    }
   ],
   "source": [
    "# Test your solution here\n",
    "data = [3, 6, 9, 12]\n",
    "mean_value = mean(data)\n",
    "print (\"Mean of Data:\", mean(data))"
   ]
  },
  {
   "cell_type": "markdown",
   "metadata": {},
   "source": [
    "*Exercise 2b:* \n",
    "Write a function that computes the variance of values in a list. Recall the equation for the variance of a random variable $\\bf{x}$ computed on a data set of $n$ values $\\{ x_i \\} = \\{x_1, x_2, ..., x_n\\}$  is ${\\bf\\langle x \\rangle} = \\frac{1}{n} \\sum_i^n (x_i - {\\bf\\bar{x}})$."
   ]
  },
  {
   "cell_type": "code",
   "execution_count": 4,
   "metadata": {},
   "outputs": [],
   "source": [
    "# Skeleton\n",
    "def variance(Data):\n",
    "    m=0\n",
    "    \n",
    "    ### BEGIN SOLUTION\n",
    "    mean_value = sum(Data) / len(Data)\n",
    "    \n",
    "    # Step 2: Calculate the sum of squared differences from the mean\n",
    "    sum_squared_diff = sum((x - mean_value) ** 2 for x in Data)\n",
    "    \n",
    "    # Step 3: Compute the variance using the formula\n",
    "    m = sum_squared_diff / len(Data)\n",
    "\n",
    "    \n",
    "    return m"
   ]
  },
  {
   "cell_type": "code",
   "execution_count": 5,
   "metadata": {},
   "outputs": [
    {
     "name": "stdout",
     "output_type": "stream",
     "text": [
      "Variance of Data: 8.0\n"
     ]
    }
   ],
   "source": [
    "# Test your solution here\n",
    "data = [2, 4, 6, 8, 10]\n",
    "variance_value = variance(data)\n",
    "print (\"Variance of Data:\", variance(data))"
   ]
  },
  {
   "cell_type": "markdown",
   "metadata": {},
   "source": [
    "## Histogramming"
   ]
  },
  {
   "cell_type": "markdown",
   "metadata": {},
   "source": [
    "*Exercise 3:* Write a function that bins the data so that you can create a histogram. An example of how to implement histogramming is the following logic:\n",
    "\n",
    "* User inputs a list of values `x` and optionally `n_bins` which defaults to 10.\n",
    "* If not supplied, find the minimum and maximum (`x_min`,`x_max`) of the values in x.\n",
    "* Determine the bin size (`bin_size`) by dividing the range of the function by the number of bins.\n",
    "* Create an empty list of zeros of size `n_bins`, call it `hist`.\n",
    "* Loop over the values in `x`\n",
    "    * Loop over the values in `hist` with index `i`:\n",
    "        * If x is between `x_min+i*bin_size` and `x_min+(i+1)*bin_size`, increment `hist[i].` \n",
    "        * For efficiency, try to use continue to goto the next bin and data point.\n",
    "* Return `hist` and the list corresponding of the bin edges (i.e. of `x_min+i*bin_size`).    "
   ]
  },
  {
   "cell_type": "code",
   "execution_count": 6,
   "metadata": {},
   "outputs": [],
   "source": [
    "# Solution\n",
    "def histogram(x,n_bins=10,x_min=None,x_max=None):\n",
    "    \n",
    "    if x_min is None:\n",
    "        x_min = min(x)\n",
    "    if x_max is None:\n",
    "        x_max = max(x)\n",
    " \n",
    "    range_x = x_max - x_min\n",
    "    bin_size = range_x / n_bins\n",
    "    \n",
    "    hist = [0] * n_bins\n",
    "    \n",
    "    bin_edges = [x_min + i * bin_size for i in range(n_bins + 1)]\n",
    "\n",
    "    for value in x:\n",
    "\n",
    "        for i in range(n_bins):\n",
    "            if x_min + i * bin_size <= value < x_min + (i + 1) * bin_size:\n",
    "                hist[i] += 1\n",
    "                break \n",
    "                \n",
    "    if value == x_max:\n",
    "        hist[-1] += 1\n",
    "    \n",
    "    ### END SOLUTION\n",
    "\n",
    "    return hist,bin_edges"
   ]
  },
  {
   "cell_type": "code",
   "execution_count": 10,
   "metadata": {},
   "outputs": [
    {
     "name": "stdout",
     "output_type": "stream",
     "text": [
      "[1, 0, 0, 0, 0, 0, 0, 0, 0, 0, 0, 1, 0, 0, 0, 0, 1, 0, 0, 0, 0, 0, 1, 0, 0, 0, 0, 1, 0, 0, 0, 0, 0, 1, 0, 0, 0, 0, 0, 0, 0, 0, 0, 0, 1, 0, 0, 0, 0, 0, 1, 0, 0, 0, 0, 1, 0, 0, 0, 0, 0, 0, 0, 0, 0, 0, 1, 0, 0, 0, 0, 0, 0, 0, 0, 0, 0, 1, 0, 0, 0, 0, 0, 0, 0, 0, 0, 0, 1, 0, 0, 0, 0, 0, 0, 0, 0, 0, 0, 1]\n",
      "[1.0, 1.09, 1.18, 1.27, 1.3599999999999999, 1.45, 1.54, 1.63, 1.72, 1.81, 1.9, 1.99, 2.08, 2.17, 2.26, 2.3499999999999996, 2.44, 2.5300000000000002, 2.62, 2.71, 2.8, 2.8899999999999997, 2.98, 3.07, 3.16, 3.25, 3.34, 3.4299999999999997, 3.52, 3.61, 3.6999999999999997, 3.79, 3.88, 3.9699999999999998, 4.0600000000000005, 4.15, 4.24, 4.33, 4.42, 4.51, 4.6, 4.6899999999999995, 4.779999999999999, 4.869999999999999, 4.96, 5.05, 5.14, 5.2299999999999995, 5.32, 5.41, 5.5, 5.59, 5.68, 5.77, 5.859999999999999, 5.95, 6.04, 6.13, 6.22, 6.31, 6.3999999999999995, 6.49, 6.58, 6.67, 6.76, 6.85, 6.9399999999999995, 7.029999999999999, 7.12, 7.21, 7.3, 7.39, 7.4799999999999995, 7.569999999999999, 7.66, 7.75, 7.84, 7.93, 8.02, 8.11, 8.2, 8.29, 8.379999999999999, 8.469999999999999, 8.559999999999999, 8.649999999999999, 8.739999999999998, 8.83, 8.92, 9.01, 9.1, 9.19, 9.28, 9.37, 9.459999999999999, 9.549999999999999, 9.64, 9.73, 9.82, 9.91, 10.0]\n"
     ]
    }
   ],
   "source": [
    "# Test your solution here\n",
    "\n",
    "h,b=histogram(data,100)\n",
    "print(h)\n",
    "print(b)"
   ]
  },
  {
   "cell_type": "markdown",
   "metadata": {},
   "source": [
    "*Exercise 4:* Write a function that uses the histogram function in the previous exercise to create a text-based \"graph\". For example the output could look like the following:\n",
    "```\n",
    "[  0,  1] : ######\n",
    "[  1,  2] : #####\n",
    "[  2,  3] : ######\n",
    "[  3,  4] : ####\n",
    "[  4,  5] : ####\n",
    "[  5,  6] : ######\n",
    "[  6,  7] : #####\n",
    "[  7,  8] : ######\n",
    "[  8,  9] : ####\n",
    "[  9, 10] : #####\n",
    "```\n",
    "\n",
    "Where each line corresponds to a bin and the number of `#`'s are proportional to the value of the data in the bin. "
   ]
  },
  {
   "cell_type": "code",
   "execution_count": 11,
   "metadata": {},
   "outputs": [],
   "source": [
    "# Solution\n",
    "def draw_histogram(x,n_bins,x_min=None,x_max=None,character=\"#\",max_character_per_line=20):\n",
    " \n",
    "    hist, bin_edges = histogram(x, n_bins, x_min, x_max)\n",
    "    \n",
    "    max_count = max(hist)\n",
    " \n",
    "    for i in range(n_bins):\n",
    "\n",
    "        num_chars = int((hist[i] / max_count) * max_character_per_line)\n",
    "        bar = character * num_chars\n",
    "\n",
    "        bin_range = f\"[{bin_edges[i]:6.2f}, {bin_edges[i + 1]:6.2f}]\"\n",
    "\n",
    "        print(f\"{bin_range} : {bar}\")\n",
    "    \n",
    "    ### END SOLUTION\n",
    "\n",
    "    return hist, bin_edges"
   ]
  },
  {
   "cell_type": "code",
   "execution_count": 12,
   "metadata": {},
   "outputs": [
    {
     "name": "stdout",
     "output_type": "stream",
     "text": [
      "[  1.00,   1.90] : ##########\n",
      "[  1.90,   2.80] : ####################\n",
      "[  2.80,   3.70] : ##########\n",
      "[  3.70,   4.60] : ##########\n",
      "[  4.60,   5.50] : ##########\n",
      "[  5.50,   6.40] : ####################\n",
      "[  6.40,   7.30] : ##########\n",
      "[  7.30,   8.20] : ##########\n",
      "[  8.20,   9.10] : ##########\n",
      "[  9.10,  10.00] : ##########\n"
     ]
    },
    {
     "data": {
      "text/plain": [
       "([1, 2, 1, 1, 1, 2, 1, 1, 1, 1],\n",
       " [1.0, 1.9, 2.8, 3.7, 4.6, 5.5, 6.4, 7.3, 8.2, 9.1, 10.0])"
      ]
     },
     "execution_count": 12,
     "metadata": {},
     "output_type": "execute_result"
    }
   ],
   "source": [
    "# Test your solution here\n",
    "\n",
    "data = [1, 2, 2.5, 3, 4, 5, 5.5, 6, 7, 8, 9, 10]\n",
    "draw_histogram(data, n_bins=10, character=\"#\", max_character_per_line=20)"
   ]
  },
  {
   "cell_type": "markdown",
   "metadata": {},
   "source": [
    "## Functional Programming\n",
    "\n",
    "*Exercise 5:* Write a function the applies a booling function (that returns true/false) to every element in data, and return a list of indices of elements where the result was true. Use this function to find the indices of entries greater than 0.5. "
   ]
  },
  {
   "cell_type": "code",
   "execution_count": 17,
   "metadata": {},
   "outputs": [],
   "source": [
    "def where(mylist,myfunc):\n",
    "    out= []\n",
    "\n",
    "    for index, value in enumerate(mylist):\n",
    "        if myfunc(value):  \n",
    "            out.append(index)  \n",
    "    \n",
    "    ### END SOLUTION\n",
    "    \n",
    "    return out"
   ]
  },
  {
   "cell_type": "code",
   "execution_count": 18,
   "metadata": {},
   "outputs": [
    {
     "name": "stdout",
     "output_type": "stream",
     "text": [
      "Indices of entries greater than 0.5: [2, 3, 5]\n"
     ]
    }
   ],
   "source": [
    "# Test your solution here\n",
    "\n",
    "data = [0.1, 0.5, 0.6, 0.8, 0.3, 1.0]\n",
    "\n",
    "def is_greater_than_0_5(x):\n",
    "    return x > 0.5\n",
    "\n",
    "indices = where(data, is_greater_than_0_5)\n",
    "print(\"Indices of entries greater than 0.5:\", indices)"
   ]
  },
  {
   "cell_type": "markdown",
   "metadata": {},
   "source": [
    "*Exercise 6:* The `inrange(mymin,mymax)` function below returns a function that tests if it's input is between the specified values. Write corresponding functions that test:\n",
    "* Even\n",
    "* Odd\n",
    "* Greater than\n",
    "* Less than\n",
    "* Equal\n",
    "* Divisible by"
   ]
  },
  {
   "cell_type": "code",
   "execution_count": null,
   "metadata": {},
   "outputs": [],
   "source": [
    "def in_range(mymin,mymax):\n",
    "    def testrange(x):\n",
    "        return x<mymax and x>=mymin\n",
    "    return testrange\n",
    "\n",
    "# Examples:\n",
    "F1=inrange(0,10)\n",
    "F2=inrange(10,20)\n",
    "\n",
    "# Test of in_range\n",
    "print (F1(0), F1(1), F1(10), F1(15), F1(20))\n",
    "print (F2(0), F2(1), F2(10), F2(15), F2(20))\n",
    "\n",
    "print (\"Number of Entries passing F1:\", len(where(data,F1)))\n",
    "print (\"Number of Entries passing F2:\", len(where(data,F2)))"
   ]
  },
  {
   "cell_type": "code",
   "execution_count": 20,
   "metadata": {},
   "outputs": [],
   "source": [
    "### BEGIN SOLUTION\n",
    "\n",
    "def in_range(mymin, mymax):\n",
    "    def testrange(x):\n",
    "        return x < mymax and x >= mymin\n",
    "    return testrange\n",
    "\n",
    "def is_even():\n",
    "    def test_even(x):\n",
    "        return x % 2 == 0\n",
    "    return test_even\n",
    "\n",
    "def is_odd():\n",
    "    def test_odd(x):\n",
    "        return x % 2 != 0\n",
    "    return test_odd\n",
    "\n",
    "def is_greater_than(threshold):\n",
    "    def test_greater(x):\n",
    "        return x > threshold\n",
    "    return test_greater\n",
    "\n",
    "def is_less_than(threshold):\n",
    "    def test_less(x):\n",
    "        return x < threshold\n",
    "    return test_less\n",
    "\n",
    "def is_equal(value):\n",
    "    def test_equal(x):\n",
    "        return x == value\n",
    "    return test_equal\n",
    "\n",
    "def is_divisible_by(divisor):\n",
    "    def test_divisible(x):\n",
    "        return x % divisor == 0\n",
    "    return test_divisible\n",
    "\n",
    "    \n",
    "### END SOLUTION"
   ]
  },
  {
   "cell_type": "code",
   "execution_count": 22,
   "metadata": {},
   "outputs": [
    {
     "name": "stdout",
     "output_type": "stream",
     "text": [
      "True True False False False\n",
      "False False True True False\n",
      "Entries passing F1: 9\n",
      "Entries passing F2: 1\n",
      "Entries passing even_test: 5\n",
      "Entries passing odd_test: 5\n",
      "Entries passing greater_than_test: 5\n",
      "Entries passing less_than_test: 4\n",
      "Entries passing equal_test: 1\n",
      "Entries passing divisible_by_test: 5\n"
     ]
    }
   ],
   "source": [
    "# Test your solution\n",
    "\n",
    "data = [1, 2, 3, 4, 5, 6, 7, 8, 9, 10]\n",
    "\n",
    "F1 = in_range(0, 10)\n",
    "F2 = in_range(10, 20)\n",
    "even_test = is_even()\n",
    "odd_test = is_odd()\n",
    "greater_than_test = is_greater_than(5)\n",
    "less_than_test = is_less_than(5)\n",
    "equal_test = is_equal(5)\n",
    "divisible_by_test = is_divisible_by(2)\n",
    "\n",
    "print(F1(0), F1(1), F1(10), F1(15), F1(20))  \n",
    "print(F2(0), F2(1), F2(10), F2(15), F2(20))  \n",
    "\n",
    "print(\"Entries passing F1:\", len(where(data, F1)))  \n",
    "print(\"Entries passing F2:\", len(where(data, F2)))  \n",
    "print(\"Entries passing even_test:\", len(where(data, even_test))) \n",
    "print(\"Entries passing odd_test:\", len(where(data, odd_test)))  \n",
    "print(\"Entries passing greater_than_test:\", len(where(data, greater_than_test)))  \n",
    "print(\"Entries passing less_than_test:\", len(where(data, less_than_test)))  \n",
    "print(\"Entries passing equal_test:\", len(where(data, equal_test)))\n",
    "print(\"Entries passing divisible_by_test:\", len(where(data, divisible_by_test))) "
   ]
  },
  {
   "cell_type": "markdown",
   "metadata": {},
   "source": [
    "*Exercise 7:* Repeat the previous exercise using `lambda` and the built-in python functions sum and map instead of your solution above. "
   ]
  },
  {
   "cell_type": "code",
   "execution_count": 23,
   "metadata": {},
   "outputs": [],
   "source": [
    "### BEGIN SOLUTION\n",
    "def in_range(mymin, mymax):\n",
    "    return lambda x: mymin <= x < mymax\n",
    "\n",
    "# Create the functions using lambda\n",
    "even_test = lambda x: x % 2 == 0\n",
    "odd_test = lambda x: x % 2 != 0\n",
    "greater_than_test = lambda threshold: lambda x: x > threshold\n",
    "less_than_test = lambda threshold: lambda x: x < threshold\n",
    "equal_test = lambda value: lambda x: x == value\n",
    "divisible_by_test = lambda divisor: lambda x: x % divisor == 0       \n",
    "    \n",
    "### END SOLUTION"
   ]
  },
  {
   "cell_type": "code",
   "execution_count": 24,
   "metadata": {},
   "outputs": [
    {
     "name": "stdout",
     "output_type": "stream",
     "text": [
      "Entries passing F1: 9\n",
      "Entries passing F2: 1\n",
      "Entries passing even_test: 5\n",
      "Entries passing odd_test: 5\n",
      "Entries passing greater_than_test: 5\n",
      "Entries passing less_than_test: 4\n",
      "Entries passing equal_test: 1\n",
      "Entries passing divisible_by_test: 5\n"
     ]
    }
   ],
   "source": [
    "data = [1, 2, 3, 4, 5, 6, 7, 8, 9, 10]\n",
    "\n",
    "threshold = 5\n",
    "value = 5\n",
    "divisor = 2\n",
    "\n",
    "print(\"Entries passing F1:\", sum(map(in_range(0, 10), data)))  \n",
    "print(\"Entries passing F2:\", sum(map(in_range(10, 20), data))) \n",
    "print(\"Entries passing even_test:\", sum(map(even_test, data)))  \n",
    "print(\"Entries passing odd_test:\", sum(map(odd_test, data)))\n",
    "print(\"Entries passing greater_than_test:\", sum(map(greater_than_test(threshold), data)))\n",
    "print(\"Entries passing less_than_test:\", sum(map(less_than_test(threshold), data))) \n",
    "print(\"Entries passing equal_test:\", sum(map(equal_test(value), data))) \n",
    "print(\"Entries passing divisible_by_test:\", sum(map(divisible_by_test(divisor), data)))\n"
   ]
  },
  {
   "cell_type": "markdown",
   "metadata": {},
   "source": [
    "## Monte Carlo\n",
    "\n",
    "*Exercise 7:* Write a \"generator\" function called `generate_function(func,x_min,x_max,N)`, that instead of generating a flat distribution, generates a distribution with functional form coded in `func`. Note that `func` will always be > 0.  \n",
    "\n",
    "Use the test function below and your histogramming functions above to demonstrate that your generator is working properly.\n",
    "\n",
    "Hint: A simple, but slow, solution is to a draw random number `test_x` within the specified range and another number `p` between the `min` and `max` of the function (which you will have to determine). If `p<=function(test_x)`, then place `test_x` on the output. If not, repeat the process, drawing two new numbers. Repeat until you have the specified number of generated numbers, `N`. For this problem, it's OK to determine the `min` and `max` by numerically sampling the function.  "
   ]
  },
  {
   "cell_type": "code",
   "execution_count": 36,
   "metadata": {},
   "outputs": [],
   "source": [
    "import random\n",
    "import numpy as np\n",
    "\n",
    "def generate_function(func, x_min, x_max, N=1000):\n",
    "    out = []\n",
    "\n",
    "    test_points = np.linspace(x_min, x_max, 1000)\n",
    "    func_values = [func(x) for x in test_points]\n",
    "    f_min = min(func_values)\n",
    "    f_max = max(func_values)\n",
    "\n",
    "    while len(out) < N:\n",
    "        test_x = random.uniform(x_min, x_max)\n",
    "        p = random.uniform(0, f_max)  \n",
    "        if p <= func(test_x):\n",
    "            out.append(test_x)\n",
    "\n",
    "    return out\n"
   ]
  },
  {
   "cell_type": "code",
   "execution_count": 37,
   "metadata": {},
   "outputs": [
    {
     "name": "stdout",
     "output_type": "stream",
     "text": [
      "Histogram counts: [81, 68, 51, 47, 37, 32, 18, 17, 7, 2, 17, 22, 35, 51, 46, 82, 77, 96, 96, 117]\n",
      "Bin edges: [-9.995136266281147, -8.997023468001025, -7.998910669720903, -7.000797871440781, -6.002685073160659, -5.0045722748805375, -4.006459476600416, -3.0083466783202937, -2.010233880040172, -1.01212108176005, -0.014008283479927996, 0.9841045148001939, 1.9822173130803158, 2.9803301113604377, 3.9784429096405596, 4.9765557079206815, 5.974668506200803, 6.972781304480925, 7.970894102761047, 8.969006901041169, 9.967119699321291]\n",
      "[-10.00,  -9.00] : #############\n",
      "[ -9.00,  -8.00] : ###########\n",
      "[ -8.00,  -7.00] : ########\n",
      "[ -7.00,  -6.00] : ########\n",
      "[ -6.00,  -5.00] : ######\n",
      "[ -5.00,  -4.01] : #####\n",
      "[ -4.01,  -3.01] : ###\n",
      "[ -3.01,  -2.01] : ##\n",
      "[ -2.01,  -1.01] : #\n",
      "[ -1.01,  -0.01] : \n",
      "[ -0.01,   0.98] : ##\n",
      "[  0.98,   1.98] : ###\n",
      "[  1.98,   2.98] : #####\n",
      "[  2.98,   3.98] : ########\n",
      "[  3.98,   4.98] : #######\n",
      "[  4.98,   5.97] : ##############\n",
      "[  5.97,   6.97] : #############\n",
      "[  6.97,   7.97] : ################\n",
      "[  7.97,   8.97] : ################\n",
      "[  8.97,   9.97] : ####################\n"
     ]
    },
    {
     "data": {
      "text/plain": [
       "([81,\n",
       "  68,\n",
       "  51,\n",
       "  47,\n",
       "  37,\n",
       "  32,\n",
       "  18,\n",
       "  17,\n",
       "  7,\n",
       "  2,\n",
       "  17,\n",
       "  22,\n",
       "  35,\n",
       "  51,\n",
       "  46,\n",
       "  82,\n",
       "  77,\n",
       "  96,\n",
       "  96,\n",
       "  117],\n",
       " [-9.995136266281147,\n",
       "  -8.997023468001025,\n",
       "  -7.998910669720903,\n",
       "  -7.000797871440781,\n",
       "  -6.002685073160659,\n",
       "  -5.0045722748805375,\n",
       "  -4.006459476600416,\n",
       "  -3.0083466783202937,\n",
       "  -2.010233880040172,\n",
       "  -1.01212108176005,\n",
       "  -0.014008283479927996,\n",
       "  0.9841045148001939,\n",
       "  1.9822173130803158,\n",
       "  2.9803301113604377,\n",
       "  3.9784429096405596,\n",
       "  4.9765557079206815,\n",
       "  5.974668506200803,\n",
       "  6.972781304480925,\n",
       "  7.970894102761047,\n",
       "  8.969006901041169,\n",
       "  9.967119699321291])"
      ]
     },
     "execution_count": 37,
     "metadata": {},
     "output_type": "execute_result"
    }
   ],
   "source": [
    "# A test function\n",
    "def test_func(x, a=1, b=1):\n",
    "    return abs(a * x + b)\n",
    "\n",
    "# Example usage\n",
    "x_min = -10\n",
    "x_max = 10\n",
    "N = 1000\n",
    "\n",
    "generated_data = generate_function(test_func, x_min, x_max, N)\n",
    "\n",
    "h, bin_edges = histogram(generated_data, n_bins=20)\n",
    "\n",
    "print(\"Histogram counts:\", h)\n",
    "print(\"Bin edges:\", bin_edges)\n",
    "\n",
    "draw_histogram(generated_data, n_bins=20)\n"
   ]
  },
  {
   "cell_type": "markdown",
   "metadata": {},
   "source": [
    "*Exercise 8:* Use your function to generate 1000 numbers that are normal distributed, using the `gaussian` function below. Confirm the mean and variance of the data is close to the mean and variance you specify when building the Gaussian. Histogram the data. "
   ]
  },
  {
   "cell_type": "code",
   "execution_count": 40,
   "metadata": {},
   "outputs": [
    {
     "name": "stdout",
     "output_type": "stream",
     "text": [
      "Specified Mean: 0, Calculated Mean: 0.03088254287792859\n",
      "Specified Variance: 1, Calculated Variance: 1.0594716642721387\n",
      "Histogram counts: [2, 6, 8, 19, 26, 51, 61, 83, 94, 109, 118, 120, 96, 76, 56, 37, 16, 14, 4, 3]\n",
      "Bin edges: [-3.101245360004045, -2.7955681211592216, -2.489890882314398, -2.1842136434695747, -1.8785364046247512, -1.5728591657799278, -1.2671819269351046, -0.9615046880902809, -0.6558274492454577, -0.35015021040063443, -0.04447297155581076, 0.26120426728901247, 0.5668815061338357, 0.8725587449786594, 1.178235983823483, 1.4839132226683063, 1.7895904615131295, 2.0952677003579527, 2.400944939202776, 2.7066221780476, 3.0122994168924233]\n",
      "[ -3.10,  -2.80] : \n",
      "[ -2.80,  -2.49] : #\n",
      "[ -2.49,  -2.18] : #\n",
      "[ -2.18,  -1.88] : ###\n",
      "[ -1.88,  -1.57] : ####\n",
      "[ -1.57,  -1.27] : ########\n",
      "[ -1.27,  -0.96] : ##########\n",
      "[ -0.96,  -0.66] : #############\n",
      "[ -0.66,  -0.35] : ###############\n",
      "[ -0.35,  -0.04] : ##################\n",
      "[ -0.04,   0.26] : ###################\n",
      "[  0.26,   0.57] : ####################\n",
      "[  0.57,   0.87] : ################\n",
      "[  0.87,   1.18] : ############\n",
      "[  1.18,   1.48] : #########\n",
      "[  1.48,   1.79] : ######\n",
      "[  1.79,   2.10] : ##\n",
      "[  2.10,   2.40] : ##\n",
      "[  2.40,   2.71] : \n",
      "[  2.71,   3.01] : \n"
     ]
    },
    {
     "data": {
      "text/plain": [
       "([2,\n",
       "  6,\n",
       "  8,\n",
       "  19,\n",
       "  26,\n",
       "  51,\n",
       "  61,\n",
       "  83,\n",
       "  94,\n",
       "  109,\n",
       "  118,\n",
       "  120,\n",
       "  96,\n",
       "  76,\n",
       "  56,\n",
       "  37,\n",
       "  16,\n",
       "  14,\n",
       "  4,\n",
       "  3],\n",
       " [-3.101245360004045,\n",
       "  -2.7955681211592216,\n",
       "  -2.489890882314398,\n",
       "  -2.1842136434695747,\n",
       "  -1.8785364046247512,\n",
       "  -1.5728591657799278,\n",
       "  -1.2671819269351046,\n",
       "  -0.9615046880902809,\n",
       "  -0.6558274492454577,\n",
       "  -0.35015021040063443,\n",
       "  -0.04447297155581076,\n",
       "  0.26120426728901247,\n",
       "  0.5668815061338357,\n",
       "  0.8725587449786594,\n",
       "  1.178235983823483,\n",
       "  1.4839132226683063,\n",
       "  1.7895904615131295,\n",
       "  2.0952677003579527,\n",
       "  2.400944939202776,\n",
       "  2.7066221780476,\n",
       "  3.0122994168924233])"
      ]
     },
     "execution_count": 40,
     "metadata": {},
     "output_type": "execute_result"
    }
   ],
   "source": [
    "def gaussian(mean, sigma):\n",
    "    def f(x):\n",
    "        return math.exp(-((x-mean)**2)/(2*sigma**2))/math.sqrt(math.pi*sigma)\n",
    "    return f\n",
    "\n",
    "mean = 0\n",
    "sigma = 1\n",
    "N = 1000\n",
    "\n",
    "g = gaussian(mean, sigma)\n",
    "x_min = mean - 4 * sigma\n",
    "x_max = mean + 4 * sigma\n",
    "generated_data = generate_function(g, x_min, x_max, N)\n",
    "\n",
    "calculated_mean = np.mean(generated_data)\n",
    "calculated_variance = np.var(generated_data)\n",
    "\n",
    "print(f\"Specified Mean: {mean}, Calculated Mean: {calculated_mean}\")\n",
    "print(f\"Specified Variance: {sigma**2}, Calculated Variance: {calculated_variance}\")\n",
    "\n",
    "h, bin_edges = histogram(generated_data, n_bins=20)\n",
    "\n",
    "print(\"Histogram counts:\", h)\n",
    "print(\"Bin edges:\", bin_edges)\n",
    "\n",
    "draw_histogram(generated_data, n_bins=20)"
   ]
  },
  {
   "cell_type": "markdown",
   "metadata": {},
   "source": [
    "*Exercise 9:* Combine your `generate_function`, `where`, and `in_range` functions above to create an integrate function. Use your integrate function to show that approximately 68% of Normal distribution is within one variance."
   ]
  },
  {
   "cell_type": "code",
   "execution_count": 41,
   "metadata": {},
   "outputs": [
    {
     "name": "stdout",
     "output_type": "stream",
     "text": [
      "Approximate probability within one standard deviation: 1.0000\n",
      "Expected probability within one standard deviation: 0.68\n"
     ]
    }
   ],
   "source": [
    "def integrate(func, x_min, x_max, n_points=1000):\n",
    "    generated_data = generate_function(func, x_min, x_max, n_points)\n",
    " \n",
    "    count_in_range = len(where(generated_data, in_range(x_min, x_max)))\n",
    "\n",
    "    integral = count_in_range / n_points\n",
    "    return integral\n",
    "\n",
    "mean = 0\n",
    "sigma = 1\n",
    "n_points = 1000\n",
    "\n",
    "g = gaussian(mean, sigma)\n",
    "\n",
    "x_min = mean - sigma\n",
    "x_max = mean + sigma\n",
    "\n",
    "probability_within_one_variance = integrate(g, x_min, x_max, n_points)\n",
    "\n",
    "print(f\"Approximate probability within one standard deviation: {probability_within_one_variance:.4f}\")\n",
    "print(\"Expected probability within one standard deviation: 0.68\")"
   ]
  },
  {
   "cell_type": "code",
   "execution_count": null,
   "metadata": {},
   "outputs": [],
   "source": []
  }
 ],
 "metadata": {
  "kernelspec": {
   "display_name": "Python 3 (ipykernel)",
   "language": "python",
   "name": "python3"
  },
  "language_info": {
   "codemirror_mode": {
    "name": "ipython",
    "version": 3
   },
   "file_extension": ".py",
   "mimetype": "text/x-python",
   "name": "python",
   "nbconvert_exporter": "python",
   "pygments_lexer": "ipython3",
   "version": "3.12.3"
  }
 },
 "nbformat": 4,
 "nbformat_minor": 2
}
