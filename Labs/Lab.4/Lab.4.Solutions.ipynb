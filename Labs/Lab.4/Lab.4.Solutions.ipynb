{
 "cells": [
  {
   "cell_type": "markdown",
   "metadata": {},
   "source": [
    "# Lab 4- Object Oriented Programming\n",
    "\n",
    "For all of the exercises below, make sure you provide tests of your solutions.\n"
   ]
  },
  {
   "cell_type": "markdown",
   "metadata": {},
   "source": [
    "1. Write a \"counter\" class that can be incremented up to a specified maximum value, will print an error if an attempt is made to increment beyond that value, and allows reseting the counter. "
   ]
  },
  {
   "cell_type": "code",
   "execution_count": 2,
   "metadata": {},
   "outputs": [
    {
     "name": "stdout",
     "output_type": "stream",
     "text": [
      "Value: 1\n",
      "Value: 2\n",
      "Value: 3\n",
      "Value: 4\n",
      "Value: 5\n",
      "Error Maximum value\n",
      "Value: 5\n",
      "Error Maximum value\n",
      "Value: 5\n",
      "After reset: Value: 0\n"
     ]
    }
   ],
   "source": [
    "class Counter:\n",
    "    def __init__(self, max_value):\n",
    "        self.max_value = max_value\n",
    "        self.current_value = 0\n",
    "\n",
    "    def increment(self):\n",
    "        if self.current_value < self.max_value:\n",
    "            self.current_value += 1\n",
    "        else:\n",
    "            print(\"Error Maximum value\")\n",
    "    \n",
    "    def reset(self):\n",
    "        self.current_value = 0\n",
    "\n",
    "    def __str__(self):\n",
    "        return f\"Value: {self.current_value}\"\n",
    "\n",
    "counter = Counter(5)\n",
    "for _ in range(7): \n",
    "    counter.increment()\n",
    "    print(counter)\n",
    "\n",
    "counter.reset()\n",
    "print(\"After reset:\", counter)\n"
   ]
  },
  {
   "cell_type": "markdown",
   "metadata": {},
   "source": [
    "2. Copy and paste your solution to question 1 and modify it so that all the data held by the counter is private. Implement functions to check the value of the counter, check the maximum value, and check if the counter is at the maximum."
   ]
  },
  {
   "cell_type": "code",
   "execution_count": 5,
   "metadata": {},
   "outputs": [
    {
     "name": "stdout",
     "output_type": "stream",
     "text": [
      "Value: 1\n",
      "Value: 2\n",
      "Value: 3\n",
      "Value: 4\n",
      "Value: 5\n",
      "Error Maximum value\n",
      "Value: 5\n",
      "Error Maximum value\n",
      "Value: 5\n",
      "At max? True\n",
      "After reset: Value: 0\n"
     ]
    }
   ],
   "source": [
    "class Counter:\n",
    "    def __init__(self, max_value):\n",
    "        self.__max_value = max_value  \n",
    "        self.__current_value = 0      \n",
    "\n",
    "    def increment(self):\n",
    "        if self.__current_value < self.__max_value:\n",
    "            self.__current_value += 1\n",
    "        else:\n",
    "            print(\"Error Maximum value\")\n",
    "    \n",
    "    def reset(self):\n",
    "        self.__current_value = 0\n",
    "\n",
    "    def get_current_value(self):\n",
    "        return self.__current_value\n",
    "\n",
    "    def get_max_value(self):\n",
    "        return self.__max_value\n",
    "\n",
    "    def is_at_max(self):\n",
    "        return self.__current_value == self.__max_value\n",
    "\n",
    "    def __str__(self):\n",
    "        return f\"Value: {self.__current_value}\"\n",
    "\n",
    "counter = Counter(5)\n",
    "for _ in range(7): \n",
    "    counter.increment()\n",
    "    print(counter)\n",
    "\n",
    "print(\"At max?\", counter.is_at_max())\n",
    "counter.reset()\n",
    "print(\"After reset:\", counter)\n"
   ]
  },
  {
   "cell_type": "markdown",
   "metadata": {},
   "source": [
    "3. Implement a class to represent a rectangle, holding the length, width, and $x$ and $y$ coordinates of a corner of the object. Implement functions that compute the area and perimeter of the rectangle. Make all data members private and privide accessors to retrieve values of data members. "
   ]
  },
  {
   "cell_type": "code",
   "execution_count": 7,
   "metadata": {},
   "outputs": [
    {
     "name": "stdout",
     "output_type": "stream",
     "text": [
      "Rectangle with length 10, width 5, at position (1, 0)\n",
      "Area: 50\n",
      "Perimeter: 30\n",
      "Length: 10\n",
      "Width: 5\n",
      "X-coordinate: 1\n",
      "Y-coordinate: 0\n"
     ]
    }
   ],
   "source": [
    "class Rectangle:\n",
    "    def __init__(self, length, width, x, y):\n",
    "        self.__length = length\n",
    "        self.__width = width  \n",
    "        self.__x = x            \n",
    "        self.__y = y            \n",
    "\n",
    "    def area(self):\n",
    "        return self.__length * self.__width\n",
    "\n",
    "    def perimeter(self):\n",
    "        return 2 * (self.__length + self.__width)\n",
    "\n",
    "    def get_length(self):\n",
    "        return self.__length\n",
    "\n",
    "    def get_width(self):\n",
    "        return self.__width\n",
    "\n",
    "    def get_x(self):\n",
    "        return self.__x\n",
    "\n",
    "    def get_y(self):\n",
    "        return self.__y\n",
    "\n",
    "    def __str__(self):\n",
    "        return (f\"Rectangle with length {self.__length}, width {self.__width}, \"\n",
    "                f\"at position ({self.__x}, {self.__y})\")\n",
    "\n",
    "rect = Rectangle(10, 5, 1, 0)\n",
    "print(rect)\n",
    "print(\"Area:\", rect.area())\n",
    "print(\"Perimeter:\", rect.perimeter())\n",
    "print(\"Length:\", rect.get_length())\n",
    "print(\"Width:\", rect.get_width())\n",
    "print(\"X-coordinate:\", rect.get_x())\n",
    "print(\"Y-coordinate:\", rect.get_y())\n"
   ]
  },
  {
   "cell_type": "markdown",
   "metadata": {},
   "source": [
    "4. Implement a class to represent a circle, holding the radius and $x$ and $y$ coordinates of center of the object. Implement functions that compute the area and perimeter of the rectangle. Make all data members private and privide accessors to retrieve values of data members. "
   ]
  },
  {
   "cell_type": "code",
   "execution_count": 10,
   "metadata": {},
   "outputs": [
    {
     "name": "stdout",
     "output_type": "stream",
     "text": [
      "Circle with radius 7, center at (5, 5)\n",
      "Area: 153.93804002589985\n",
      "Perimeter (Circumference): 43.96\n",
      "Radius: 7\n",
      "X-coordinate: 5\n",
      "Y-coordinate: 5\n"
     ]
    }
   ],
   "source": [
    "class Circle:\n",
    "    def __init__(self, radius, x, y):\n",
    "        self.__radius = radius  \n",
    "        self.__x = x            \n",
    "        self.__y = y\n",
    "\n",
    "    def area(self):\n",
    "        return math.pi * self.__radius ** 2\n",
    "\n",
    "    def perimeter(self):\n",
    "        return 2 * 3.14 * self.__radius\n",
    "\n",
    "    def get_radius(self):\n",
    "        return self.__radius\n",
    "\n",
    "    def get_x(self):\n",
    "        return self.__x\n",
    "\n",
    "    def get_y(self):\n",
    "        return self.__y\n",
    "\n",
    "    def __str__(self):\n",
    "        return (f\"Circle with radius {self.__radius}, center at ({self.__x}, {self.__y})\")\n",
    "\n",
    "circle = Circle(7, 5, 5)\n",
    "print(circle)\n",
    "print(\"Area:\", circle.area())\n",
    "print(\"Perimeter (Circumference):\", circle.perimeter())\n",
    "print(\"Radius:\", circle.get_radius())\n",
    "print(\"X-coordinate:\", circle.get_x())\n",
    "print(\"Y-coordinate:\", circle.get_y())\n"
   ]
  },
  {
   "cell_type": "markdown",
   "metadata": {},
   "source": [
    "5. Implement a common base class for the classes implemented in 3 and 4 above which implements all common methods as not implemented functions (virtual). Re-implement your regtangle and circule classes to inherit from the base class and overload the functions accordingly. "
   ]
  },
  {
   "cell_type": "code",
   "execution_count": 11,
   "metadata": {},
   "outputs": [],
   "source": [
    "class Shape:\n",
    "    def __init__(self, x, y):\n",
    "        self._x = x  \n",
    "        self._y = y  \n",
    "\n",
    "    def area(self):\n",
    "        return None \n",
    "\n",
    "    def perimeter(self):\n",
    "        return None \n",
    "    \n",
    "    def __str__(self):\n",
    "        return f\"Shape at position ({self._x}, {self._y})\"\n",
    "\n",
    "    def get_x(self):\n",
    "        return self._x\n",
    "\n",
    "    def get_y(self):\n",
    "        return self._y\n"
   ]
  },
  {
   "cell_type": "code",
   "execution_count": 13,
   "metadata": {},
   "outputs": [],
   "source": [
    "class Rectangle(Shape):\n",
    "    def __init__(self, length, width, x, y):\n",
    "        super().__init__(x, y)  \n",
    "        self.__length = length \n",
    "        self.__width = width    \n",
    "\n",
    "    def area(self):\n",
    "        return self.__length * self.__width\n",
    "\n",
    "    def perimeter(self):\n",
    "        return 2 * (self.__length + self.__width)\n",
    "\n",
    "    def get_length(self):\n",
    "        return self.__length\n",
    "\n",
    "    def get_width(self):\n",
    "        return self.__width\n",
    "\n",
    "    def __str__(self):\n",
    "        return (f\"Rectangle with length {self.__length}, width {self.__width}, \"\n",
    "                f\"at position ({self._x}, {self._y})\")\n"
   ]
  },
  {
   "cell_type": "code",
   "execution_count": null,
   "metadata": {},
   "outputs": [],
   "source": [
    "class Circle(Shape):\n",
    "    def __init__(self, radius, x, y):\n",
    "        super().__init__(x, y)  \n",
    "        self.__radius = radius  \n",
    "\n",
    "    def area(self):\n",
    "        return 3.14 * self.__radius ** 2\n",
    "\n",
    "    def perimeter(self):\n",
    "        return 2 * 3.14 * self.__radius  \n",
    "    \n",
    "    def get_radius(self):\n",
    "        return self.__radius\n",
    "\n",
    "    def __str__(self):\n",
    "        return f\"Circle with radius {self.__radius}, center at ({self._x}, {self._y})\"\n"
   ]
  },
  {
   "cell_type": "markdown",
   "metadata": {},
   "source": [
    "6. Implement a triangle class analogous to the rectangle and circle in question 5."
   ]
  },
  {
   "cell_type": "code",
   "execution_count": 16,
   "metadata": {},
   "outputs": [
    {
     "name": "stdout",
     "output_type": "stream",
     "text": [
      "Triangle with base 6, height 4, sides 5, 5, 6, at position (2, 3)\n",
      "Triangle Area: 12.0\n",
      "Triangle Perimeter: 16\n"
     ]
    }
   ],
   "source": [
    "class Triangle(Shape):\n",
    "    def __init__(self, base, height, side1, side2, side3, x, y):\n",
    "        super().__init__(x, y)  \n",
    "        self.__base = base      \n",
    "        self.__height = height  \n",
    "        self.__side1 = side1    \n",
    "        self.__side2 = side2    \n",
    "        self.__side3 = side3   \n",
    "\n",
    "    def area(self):\n",
    "        return 0.5 * self.__base * self.__height\n",
    "\n",
    "    def perimeter(self):\n",
    "        return self.__side1 + self.__side2 + self.__side3\n",
    "\n",
    "    def get_base(self):\n",
    "        return self.__base\n",
    "\n",
    "    def get_height(self):\n",
    "        return self.__height\n",
    "\n",
    "    def get_side1(self):\n",
    "        return self.__side1\n",
    "\n",
    "    def get_side2(self):\n",
    "        return self.__side2\n",
    "\n",
    "    def get_side3(self):\n",
    "        return self.__side3\n",
    "\n",
    "    def __str__(self):\n",
    "        return (f\"Triangle with base {self.__base}, height {self.__height}, \"\n",
    "                f\"sides {self.__side1}, {self.__side2}, {self.__side3}, \"\n",
    "                f\"at position ({self._x}, {self._y})\")\n",
    "        \n",
    "triangle = Triangle(base=6, height=4, side1=5, side2=5, side3=6, x=2, y=3)\n",
    "print(triangle)\n",
    "print(\"Triangle Area:\", triangle.area())\n",
    "print(\"Triangle Perimeter:\", triangle.perimeter())\n",
    "\n"
   ]
  },
  {
   "cell_type": "markdown",
   "metadata": {},
   "source": [
    "7. Add a function to the object classes, including the base, that returns a list of up to 16 pairs of  $x$ and $y$ points on the parameter of the object. "
   ]
  },
  {
   "cell_type": "code",
   "execution_count": 17,
   "metadata": {},
   "outputs": [],
   "source": [
    "class Shape:\n",
    "    def __init__(self, x, y):\n",
    "        self._x = x\n",
    "        self._y = y  \n",
    "\n",
    "    def get_perimeter_points(self):\n",
    "        return []  \n",
    "\n",
    "    def area(self):\n",
    "        return None\n",
    "\n",
    "    def perimeter(self):\n",
    "        return None\n",
    "\n",
    "    def __str__(self):\n",
    "        return f\"Shape at position ({self._x}, {self._y})\"\n",
    "\n",
    "    def get_x(self):\n",
    "        return self._x\n",
    "\n",
    "    def get_y(self):\n",
    "        return self._y\n"
   ]
  },
  {
   "cell_type": "code",
   "execution_count": 18,
   "metadata": {},
   "outputs": [],
   "source": [
    "class Rectangle(Shape):\n",
    "    def __init__(self, length, width, x, y):\n",
    "        super().__init__(x, y)\n",
    "        self.__length = length\n",
    "        self.__width = width\n",
    "\n",
    "    def get_perimeter_points(self):\n",
    "        points = []\n",
    "        corners = [(self._x, self._y),\n",
    "                   (self._x + self.__length, self._y),\n",
    "                   (self._x + self.__length, self._y + self.__width),\n",
    "                   (self._x, self._y + self.__width)]\n",
    "\n",
    "        points.extend(corners)\n",
    "\n",
    "        if len(points) < 16:\n",
    "            step = max(self.__length // 4, 1)\n",
    "            for i in range(1, min(16 - len(points), 4)):\n",
    "                points.append((self._x + i * step, self._y))\n",
    "                points.append((self._x + i * step, self._y + self.__width))\n",
    "\n",
    "        return points[:16]\n",
    "\n",
    "    def area(self):\n",
    "        return self.__length * self.__width\n",
    "\n",
    "    def perimeter(self):\n",
    "        return 2 * (self.__length + self.__width)\n",
    "\n",
    "    def __str__(self):\n",
    "        return (f\"Rectangle with length {self.__length}, width {self.__width}, \"\n",
    "                f\"at position ({self._x}, {self._y})\")\n"
   ]
  },
  {
   "cell_type": "code",
   "execution_count": 20,
   "metadata": {},
   "outputs": [],
   "source": [
    "class Circle(Shape):\n",
    "    def __init__(self, radius, x, y):\n",
    "        super().__init__(x, y)\n",
    "        self.__radius = radius\n",
    "\n",
    "    def get_perimeter_points(self):\n",
    "        points = []\n",
    "        for i in range(16):\n",
    "            angle = (2 * 3.14 / 16) * i  \n",
    "            x = self._x + self.__radius * math.cos(angle)\n",
    "            y = self._y + self.__radius * math.sin(angle)\n",
    "            points.append((x, y))\n",
    "        return points\n",
    "\n",
    "    def area(self):\n",
    "        return 3.14 * self.__radius ** 2\n",
    "\n",
    "    def perimeter(self):\n",
    "        return 2 * 3.14 * self.__radius\n",
    "\n",
    "    def __str__(self):\n",
    "        return f\"Circle with radius {self.__radius}, center at ({self._x}, {self._y})\"\n"
   ]
  },
  {
   "cell_type": "code",
   "execution_count": 21,
   "metadata": {},
   "outputs": [
    {
     "name": "stdout",
     "output_type": "stream",
     "text": [
      "Rectangle with length 10, width 5, at position (0, 0)\n",
      "Perimeter points of rectangle: [(0, 0), (10, 0), (10, 5), (0, 5), (2, 0), (2, 5), (4, 0), (4, 5), (6, 0), (6, 5)]\n",
      "Circle with radius 7, center at (5, 5)\n",
      "Perimeter points of circle: [(12.0, 5.0), (11.467689896291905, 7.677496480932067), (9.9517178841704, 9.947776267737563), (7.682646026204328, 11.465555683627674), (5.005574286975133, 11.999997780522843), (2.327654762237986, 11.469820007558996), (0.0561684862599634, 9.955656360539024), (-1.4634173709196867, 7.68779387031328), (-1.9999911220927764, 5.011148570415408), (-1.4719460160781663, 2.3328077000392433), (0.040408305654090704, 0.06011637532066327), (2.307059990005509, -1.461274959523923), (4.983277153214029, -1.9999800247140254), (7.662037670795959, -1.4740679205012386), (9.935932603058959, 0.03647611690448205), (11.459128450798964, 2.301915558015398)]\n"
     ]
    }
   ],
   "source": [
    "rect = Rectangle(10, 5, 0, 0)\n",
    "print(rect)\n",
    "print(\"Perimeter points of rectangle:\", rect.get_perimeter_points())\n",
    "\n",
    "# Create a circle\n",
    "circle = Circle(7, 5, 5)\n",
    "print(circle)\n",
    "print(\"Perimeter points of circle:\", circle.get_perimeter_points())"
   ]
  },
  {
   "cell_type": "markdown",
   "metadata": {},
   "source": [
    "8. Add a function to the object classes, including the base, that tests if a given set of $x$ and $y$ coordinates are inside of the object. You'll have to think through how to determine if a set of coordinates are inside an object for each object type."
   ]
  },
  {
   "cell_type": "code",
   "execution_count": 23,
   "metadata": {},
   "outputs": [],
   "source": [
    "class Shape:\n",
    "    def __init__(self, x, y):\n",
    "        self._x = x  \n",
    "        self._y = y  \n",
    "\n",
    "    def contains_point(self, x, y):\n",
    "        return False  \n",
    "    \n",
    "    def get_perimeter_points(self):\n",
    "        return []  \n",
    "\n",
    "    def area(self):\n",
    "        return None\n",
    "\n",
    "    def perimeter(self):\n",
    "        return None\n",
    "\n",
    "    def __str__(self):\n",
    "        return f\"Shape at position ({self._x}, {self._y})\"\n",
    "\n",
    "    def get_x(self):\n",
    "        return self._x\n",
    "\n",
    "    def get_y(self):\n",
    "        return self._y\n"
   ]
  },
  {
   "cell_type": "code",
   "execution_count": 25,
   "metadata": {},
   "outputs": [],
   "source": [
    "class Rectangle(Shape):\n",
    "    def __init__(self, length, width, x, y):\n",
    "        super().__init__(x, y)\n",
    "        self.__length = length\n",
    "        self.__width = width\n",
    "\n",
    "    def contains_point(self, x, y):\n",
    "        return (self._x <= x <= self._x + self.__length) and (self._y <= y <= self._y + self.__width)\n",
    "\n",
    "    def get_perimeter_points(self):\n",
    "        points = []\n",
    "        corners = [(self._x, self._y),\n",
    "                   (self._x + self.__length, self._y),\n",
    "                   (self._x + self.__length, self._y + self.__width),\n",
    "                   (self._x, self._y + self.__width)]\n",
    "        points.extend(corners)\n",
    "\n",
    "        if len(points) < 16:\n",
    "            step = max(self.__length // 4, 1)\n",
    "            for i in range(1, min(16 - len(points), 4)):\n",
    "                points.append((self._x + i * step, self._y))\n",
    "                points.append((self._x + i * step, self._y + self.__width))\n",
    "\n",
    "        return points[:16]\n",
    "\n",
    "    def area(self):\n",
    "        return self.__length * self.__width\n",
    "\n",
    "    def perimeter(self):\n",
    "        return 2 * (self.__length + self.__width)\n",
    "\n",
    "    def __str__(self):\n",
    "        return (f\"Rectangle with length {self.__length}, width {self.__width}, \"\n",
    "                f\"at position ({self._x}, {self._y})\")\n"
   ]
  },
  {
   "cell_type": "code",
   "execution_count": 26,
   "metadata": {},
   "outputs": [
    {
     "name": "stdout",
     "output_type": "stream",
     "text": [
      "Rectangle with length 10, width 5, at position (0, 0)\n",
      "Contains point (5, 3): True\n",
      "Contains point (15, 3): False\n"
     ]
    }
   ],
   "source": [
    "rect = Rectangle(10, 5, 0, 0)\n",
    "print(rect)\n",
    "print(\"Contains point (5, 3):\", rect.contains_point(5, 3)) \n",
    "print(\"Contains point (15, 3):\", rect.contains_point(15, 3))  "
   ]
  },
  {
   "cell_type": "markdown",
   "metadata": {},
   "source": [
    "9. Add a function in the base class of the object classes that returns true/false testing that the object overlaps with another object."
   ]
  },
  {
   "cell_type": "code",
   "execution_count": 28,
   "metadata": {},
   "outputs": [
    {
     "name": "stdout",
     "output_type": "stream",
     "text": [
      "Rectangle with length 10, width 5, at position (0, 0)\n",
      "Rectangle with length 5, width 5, at position (3, 3)\n",
      "Rectangle 1 overlaps Rectangle 2: True\n",
      "Rectangle 1 overlaps Circle: False\n"
     ]
    }
   ],
   "source": [
    "class Shape:\n",
    "    def __init__(self, x, y):\n",
    "        self._x = x\n",
    "        self._y = y\n",
    "\n",
    "    def contains_point(self, x, y):\n",
    "        return False\n",
    "\n",
    "    def get_perimeter_points(self):\n",
    "        return []\n",
    "\n",
    "    def area(self):\n",
    "        return None\n",
    "\n",
    "    def perimeter(self):\n",
    "        return None\n",
    "\n",
    "    def overlaps(self, other):\n",
    "        if isinstance(other, Shape):\n",
    "            for point in other.get_perimeter_points():\n",
    "                if self.contains_point(point[0], point[1]):\n",
    "                    return True\n",
    "            for point in self.get_perimeter_points():\n",
    "                if other.contains_point(point[0], point[1]):\n",
    "                    return True\n",
    "        return False\n",
    "\n",
    "    def __str__(self):\n",
    "        return f\"Shape at position ({self._x}, {self._y})\"\n",
    "\n",
    "    def get_x(self):\n",
    "        return self._x\n",
    "\n",
    "    def get_y(self):\n",
    "        return self._y\n",
    "\n",
    "\n",
    "class Rectangle(Shape):\n",
    "    def __init__(self, length, width, x, y):\n",
    "        super().__init__(x, y)\n",
    "        self.__length = length\n",
    "        self.__width = width\n",
    "\n",
    "    def contains_point(self, x, y):\n",
    "        return (self._x <= x <= self._x + self.__length) and (self._y <= y <= self._y + self.__width)\n",
    "\n",
    "    def get_perimeter_points(self):\n",
    "        points = []\n",
    "        corners = [(self._x, self._y),\n",
    "                   (self._x + self.__length, self._y),\n",
    "                   (self._x + self.__length, self._y + self.__width),\n",
    "                   (self._x, self._y + self.__width)]\n",
    "        points.extend(corners)\n",
    "\n",
    "        if len(points) < 16:\n",
    "            step = max(self.__length // 4, 1)\n",
    "            for i in range(1, min(16 - len(points), 4)):\n",
    "                points.append((self._x + i * step, self._y))\n",
    "                points.append((self._x + i * step, self._y + self.__width))\n",
    "\n",
    "        return points[:16]\n",
    "\n",
    "    def area(self):\n",
    "        return self.__length * self.__width\n",
    "\n",
    "    def perimeter(self):\n",
    "        return 2 * (self.__length + self.__width)\n",
    "\n",
    "    def __str__(self):\n",
    "        return (f\"Rectangle with length {self.__length}, width {self.__width}, \"\n",
    "                f\"at position ({self._x}, {self._y})\")\n",
    "        \n",
    "rectangle1 = Rectangle(10, 5, 0, 0)\n",
    "rectangle2 = Rectangle(5, 5, 3, 3)\n",
    "print(rectangle1)\n",
    "print(rectangle2)\n",
    "print(\"Rectangle 1 overlaps Rectangle 2:\", rectangle1.overlaps(rectangle2))  # Expected: True\n",
    "print(\"Rectangle 1 overlaps Circle:\", rectangle1.overlaps(circle)) "
   ]
  },
  {
   "cell_type": "markdown",
   "metadata": {},
   "source": [
    "10. Copy the `Canvas` class from lecture to in a python file creating a `paint` module. Copy your classes from above into the module and implement paint functions. Implement a `CompoundShape` class. Create a simple drawing demonstrating that all of your classes are working."
   ]
  },
  {
   "cell_type": "code",
   "execution_count": null,
   "metadata": {},
   "outputs": [],
   "source": []
  },
  {
   "cell_type": "markdown",
   "metadata": {},
   "source": [
    "11. Create a `RasterDrawing` class. Demonstrate that you can create a drawing made of several shapes, paint the drawing, modify the drawing, and paint it again. "
   ]
  },
  {
   "cell_type": "code",
   "execution_count": 29,
   "metadata": {},
   "outputs": [
    {
     "name": "stdout",
     "output_type": "stream",
     "text": [
      "Painting the drawing with the following shapes:\n",
      "Rectangle with length 10, width 5, at position (0, 0)\n",
      "Circle with radius 4, center at (5, 5)\n",
      "Triangle with base 6, height 4, sides 5, 5, 6, at position (1, 1)\n",
      "Painting the drawing with the following shapes:\n",
      "Rectangle with length 10, width 5, at position (0, 0)\n",
      "Circle with radius 6, center at (5, 5)\n",
      "Triangle with base 6, height 4, sides 5, 5, 6, at position (1, 1)\n"
     ]
    }
   ],
   "source": [
    "class RasterDrawing:\n",
    "    def __init__(self):\n",
    "        self.shapes = []\n",
    "\n",
    "    def add_shape(self, shape):\n",
    "        self.shapes.append(shape)\n",
    "\n",
    "    def paint(self):\n",
    "        if not self.shapes:\n",
    "            print(\"No shapes to paint.\")\n",
    "            return\n",
    "        print(\"Painting the drawing with the following shapes:\")\n",
    "        for shape in self.shapes:\n",
    "            print(shape)\n",
    "\n",
    "    def modify_shape(self, index, new_shape):\n",
    "        if 0 <= index < len(self.shapes):\n",
    "            self.shapes[index] = new_shape\n",
    "        else:\n",
    "            print(\"Invalid shape index.\")\n",
    "\n",
    "rectangle = Rectangle(10, 5, 0, 0)\n",
    "circle = Circle(4, 5, 5)\n",
    "triangle = Triangle(6, 4, 5, 5, 6, 1, 1)\n",
    "\n",
    "drawing = RasterDrawing()\n",
    "\n",
    "drawing.add_shape(rectangle)\n",
    "drawing.add_shape(circle)\n",
    "drawing.add_shape(triangle)\n",
    "\n",
    "drawing.paint()\n",
    "\n",
    "new_circle = Circle(6, 5, 5) \n",
    "drawing.modify_shape(1, new_circle)  \n",
    "\n",
    "drawing.paint()"
   ]
  },
  {
   "cell_type": "markdown",
   "metadata": {},
   "source": [
    "12. Implement the ability to load/save raster drawings and demonstate that your method works. One way to implement this ability:\n",
    "\n",
    "   * Overload `__repr__` functions of all objects to return strings of the python code that would construct the object.\n",
    "   \n",
    "   * In the save method of raster drawing class, store the representations into the file.\n",
    "   * Write a loader function that reads the file and uses `eval` to instantiate the object.\n",
    "\n",
    "For example:"
   ]
  },
  {
   "cell_type": "code",
   "execution_count": 1,
   "metadata": {},
   "outputs": [],
   "source": [
    "class foo:\n",
    "    def __init__(self,a,b=None):\n",
    "        self.a=a\n",
    "        self.b=b\n",
    "        \n",
    "    def __repr__(self):\n",
    "        return \"foo(\"+repr(self.a)+\",\"+repr(self.b)+\")\"\n",
    "    \n",
    "    def save(self,filename):\n",
    "        f=open(filename,\"w\")\n",
    "        f.write(self.__repr__())\n",
    "        f.close()\n",
    "        \n",
    "   \n",
    "def foo_loader(filename):\n",
    "    f=open(filename,\"r\")\n",
    "    tmp=eval(f.read())\n",
    "    f.close()\n",
    "    return tmp\n"
   ]
  },
  {
   "cell_type": "code",
   "execution_count": 2,
   "metadata": {},
   "outputs": [
    {
     "name": "stdout",
     "output_type": "stream",
     "text": [
      "foo(1,'hello')\n"
     ]
    }
   ],
   "source": [
    "# Test\n",
    "print(repr(foo(1,\"hello\")))"
   ]
  },
  {
   "cell_type": "code",
   "execution_count": 3,
   "metadata": {},
   "outputs": [],
   "source": [
    "# Create an object and save it\n",
    "ff=foo(1,\"hello\")\n",
    "ff.save(\"Test.foo\")"
   ]
  },
  {
   "cell_type": "code",
   "execution_count": 4,
   "metadata": {},
   "outputs": [
    {
     "name": "stdout",
     "output_type": "stream",
     "text": [
      "foo(1,'hello')"
     ]
    }
   ],
   "source": [
    "# Check contents of the saved file\n",
    "!cat Test.foo"
   ]
  },
  {
   "cell_type": "code",
   "execution_count": 5,
   "metadata": {},
   "outputs": [
    {
     "data": {
      "text/plain": [
       "foo(1,'hello')"
      ]
     },
     "execution_count": 5,
     "metadata": {},
     "output_type": "execute_result"
    }
   ],
   "source": [
    "# Load the object\n",
    "ff_reloaded=foo_loader(\"Test.foo\")\n",
    "ff_reloaded"
   ]
  },
  {
   "cell_type": "code",
   "execution_count": null,
   "metadata": {},
   "outputs": [],
   "source": []
  },
  {
   "cell_type": "code",
   "execution_count": null,
   "metadata": {},
   "outputs": [],
   "source": []
  }
 ],
 "metadata": {
  "kernelspec": {
   "display_name": "Python 3 (ipykernel)",
   "language": "python",
   "name": "python3"
  },
  "language_info": {
   "codemirror_mode": {
    "name": "ipython",
    "version": 3
   },
   "file_extension": ".py",
   "mimetype": "text/x-python",
   "name": "python",
   "nbconvert_exporter": "python",
   "pygments_lexer": "ipython3",
   "version": "3.12.3"
  }
 },
 "nbformat": 4,
 "nbformat_minor": 2
}
