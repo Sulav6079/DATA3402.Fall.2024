{
 "cells": [
  {
   "cell_type": "markdown",
   "id": "d1eec750",
   "metadata": {},
   "source": [
    "Can you rewrite create_new_args as a two lines of code using functional programming, list comprehensions, and shortcuts? How about a single line?"
   ]
  },
  {
   "cell_type": "markdown",
   "id": "968f5f45",
   "metadata": {},
   "source": [
    "### Two lines"
   ]
  },
  {
   "cell_type": "code",
   "execution_count": 1,
   "id": "337b15d6",
   "metadata": {},
   "outputs": [],
   "source": [
    "def create_new_args_0(args):\n",
    "    max_len = max(map(len, filter(lambda x: isinstance(x, list), args)))\n",
    "    return [([a] * max_len if not isinstance(a, list) else a) for a in args]"
   ]
  },
  {
   "cell_type": "markdown",
   "id": "c3576694",
   "metadata": {},
   "source": [
    "### Single Line"
   ]
  },
  {
   "cell_type": "code",
   "execution_count": 2,
   "id": "18cc3e71",
   "metadata": {},
   "outputs": [],
   "source": [
    "def create_new_args_0(args):\n",
    "    return [([a] * (max_len := max(map(len, filter(lambda x: isinstance(x, list), args)))) if not isinstance(a, list) else a) for a in args]\n"
   ]
  },
  {
   "cell_type": "code",
   "execution_count": 3,
   "id": "89de35f8",
   "metadata": {},
   "outputs": [
    {
     "data": {
      "text/plain": [
       "[[1, 2], [3, 4], [5, 5]]"
      ]
     },
     "execution_count": 3,
     "metadata": {},
     "output_type": "execute_result"
    }
   ],
   "source": [
    "create_new_args_0([[1,2],[3,4],5])"
   ]
  },
  {
   "cell_type": "code",
   "execution_count": 4,
   "id": "6fae2eea",
   "metadata": {},
   "outputs": [
    {
     "data": {
      "text/plain": [
       "[[1, 2], [3, 4, 5], [5, 5, 5]]"
      ]
     },
     "execution_count": 4,
     "metadata": {},
     "output_type": "execute_result"
    }
   ],
   "source": [
    "create_new_args_0([[1,2],[3,4,5],5])"
   ]
  },
  {
   "cell_type": "code",
   "execution_count": null,
   "id": "6440aa6d",
   "metadata": {},
   "outputs": [],
   "source": []
  }
 ],
 "metadata": {
  "kernelspec": {
   "display_name": "Python 3 (ipykernel)",
   "language": "python",
   "name": "python3"
  },
  "language_info": {
   "codemirror_mode": {
    "name": "ipython",
    "version": 3
   },
   "file_extension": ".py",
   "mimetype": "text/x-python",
   "name": "python",
   "nbconvert_exporter": "python",
   "pygments_lexer": "ipython3",
   "version": "3.12.3"
  }
 },
 "nbformat": 4,
 "nbformat_minor": 5
}
